{
 "cells": [
  {
   "cell_type": "markdown",
   "id": "5300b627",
   "metadata": {},
   "source": [
    "# Twitter NLP"
   ]
  },
  {
   "cell_type": "code",
   "execution_count": 13,
   "id": "85a39d94",
   "metadata": {},
   "outputs": [],
   "source": [
    "import requests \n",
    "import json\n",
    "from config import consumer_key, consumer_secret, access_key, access_secret, bearer_token"
   ]
  },
  {
   "cell_type": "code",
   "execution_count": 14,
   "id": "2cf7091c",
   "metadata": {},
   "outputs": [
    {
     "name": "stderr",
     "output_type": "stream",
     "text": [
      "[nltk_data] Downloading package averaged_perceptron_tagger to\n",
      "[nltk_data]     /Users/memme11/nltk_data...\n",
      "[nltk_data]   Package averaged_perceptron_tagger is already up-to-\n",
      "[nltk_data]       date!\n",
      "[nltk_data] Downloading package vader_lexicon to\n",
      "[nltk_data]     /Users/memme11/nltk_data...\n",
      "[nltk_data]   Package vader_lexicon is already up-to-date!\n",
      "[nltk_data] Downloading package stopwords to\n",
      "[nltk_data]     /Users/memme11/nltk_data...\n",
      "[nltk_data]   Package stopwords is already up-to-date!\n",
      "[nltk_data] Downloading package wordnet to /Users/memme11/nltk_data...\n",
      "[nltk_data]   Package wordnet is already up-to-date!\n"
     ]
    },
    {
     "name": "stdout",
     "output_type": "stream",
     "text": [
      "Requirement already satisfied: gensim in /Users/memme11/opt/anaconda3/lib/python3.8/site-packages (3.8.3)\n",
      "Requirement already satisfied: six>=1.5.0 in /Users/memme11/opt/anaconda3/lib/python3.8/site-packages (from gensim) (1.16.0)\n",
      "Requirement already satisfied: numpy>=1.11.3 in /Users/memme11/opt/anaconda3/lib/python3.8/site-packages (from gensim) (1.19.5)\n",
      "Requirement already satisfied: smart-open>=1.8.1 in /Users/memme11/opt/anaconda3/lib/python3.8/site-packages (from gensim) (5.1.0)\n",
      "Requirement already satisfied: scipy>=0.18.1 in /Users/memme11/opt/anaconda3/lib/python3.8/site-packages (from gensim) (1.6.2)\n"
     ]
    }
   ],
   "source": [
    "from textblob import TextBlob\n",
    "import pandas as pd\n",
    "import sys\n",
    "import tweepy\n",
    "import matplotlib.pyplot as plt\n",
    "import numpy as np\n",
    "import os\n",
    "import seaborn as sns\n",
    "import time\n",
    "import re\n",
    "import string\n",
    "\n",
    "import nltk\n",
    "from nltk.tokenize import word_tokenize\n",
    "from nltk.stem import PorterStemmer\n",
    "from nltk.stem import SnowballStemmer\n",
    "from nltk.corpus import stopwords\n",
    "from vaderSentiment.vaderSentiment import SentimentIntensityAnalyzer\n",
    "from nltk.stem import WordNetLemmatizer \n",
    "from nltk.corpus import wordnet\n",
    "nltk.download('averaged_perceptron_tagger')\n",
    "nltk.download('vader_lexicon')\n",
    "nltk.download('stopwords')\n",
    "nltk.download('wordnet')\n",
    "\n",
    "!pip install gensim\n",
    "import gensim\n",
    "from gensim.parsing.preprocessing import remove_stopwords \n",
    "import torch\n",
    "import flair\n",
    "from flair.models import TextClassifier\n",
    "from flair.data import Sentence\n",
    "from segtok.segmenter import split_single\n",
    "\n",
    "import plotly.express as px\n",
    "from wordcloud import WordCloud, STOPWORDS\n",
    "from PIL import Image\n",
    "from langdetect import detect\n",
    "from sklearn.feature_extraction.text import CountVectorizer\n",
    "\n",
    "# Display max column width \n",
    "pd.set_option('display.max_colwidth', None)"
   ]
  },
  {
   "cell_type": "markdown",
   "id": "a6406b65",
   "metadata": {},
   "source": [
    "## Twitter API (Tweepy)"
   ]
  },
  {
   "cell_type": "code",
   "execution_count": 15,
   "id": "ccd1b5c8",
   "metadata": {},
   "outputs": [],
   "source": [
    "# Initialize and gain access to Twitter API\n",
    "def initialize():\n",
    "    auth = tweepy.OAuthHandler(consumer_key, consumer_secret)\n",
    "    auth.set_access_token(access_key, access_secret)\n",
    "    api = tweepy.API(auth, wait_on_rate_limit=True, wait_on_rate_limit_notify=True)\n",
    "    return api\n",
    "\n",
    "api = initialize()"
   ]
  },
  {
   "cell_type": "code",
   "execution_count": 16,
   "id": "1d05fc78",
   "metadata": {},
   "outputs": [
    {
     "data": {
      "text/html": [
       "<div>\n",
       "<style scoped>\n",
       "    .dataframe tbody tr th:only-of-type {\n",
       "        vertical-align: middle;\n",
       "    }\n",
       "\n",
       "    .dataframe tbody tr th {\n",
       "        vertical-align: top;\n",
       "    }\n",
       "\n",
       "    .dataframe thead th {\n",
       "        text-align: right;\n",
       "    }\n",
       "</style>\n",
       "<table border=\"1\" class=\"dataframe\">\n",
       "  <thead>\n",
       "    <tr style=\"text-align: right;\">\n",
       "      <th></th>\n",
       "      <th>date</th>\n",
       "      <th>favourites</th>\n",
       "      <th>followers</th>\n",
       "      <th>retweets</th>\n",
       "      <th>text</th>\n",
       "    </tr>\n",
       "  </thead>\n",
       "  <tbody>\n",
       "    <tr>\n",
       "      <th>0</th>\n",
       "      <td>2021-07-30 03:24:48</td>\n",
       "      <td>342.0</td>\n",
       "      <td>5.0</td>\n",
       "      <td>3396.0</td>\n",
       "      <td>RT @gethungrycrypto: 💲Giveaway 1 BNB / 24 hours 💲\\n\\n1. Follow @gethungrycrypto \\n2. Like this tweet\\n3. Retweet\\n4. Tag a friend\\n\\n🦛🦛🦛🦛🦛🦛🦛🦛🦛🦛🦛🦛🦛…</td>\n",
       "    </tr>\n",
       "    <tr>\n",
       "      <th>1</th>\n",
       "      <td>2021-07-30 03:24:47</td>\n",
       "      <td>1956.0</td>\n",
       "      <td>481.0</td>\n",
       "      <td>0.0</td>\n",
       "      <td>Word on the street is, Michael Burry got liquidated during the liquidation cascade on binance leading the price to 48k. He is usually early, but a bit too early.  #michealjburry #burry $btc #btc #Bitcoin</td>\n",
       "    </tr>\n",
       "    <tr>\n",
       "      <th>2</th>\n",
       "      <td>2021-07-30 03:24:47</td>\n",
       "      <td>8954.0</td>\n",
       "      <td>3382.0</td>\n",
       "      <td>0.0</td>\n",
       "      <td>Amazon will accept #dogecoin #Bitcoin</td>\n",
       "    </tr>\n",
       "    <tr>\n",
       "      <th>3</th>\n",
       "      <td>2021-07-30 03:24:45</td>\n",
       "      <td>8377.0</td>\n",
       "      <td>281.0</td>\n",
       "      <td>172.0</td>\n",
       "      <td>RT @DocumentingBTC: Greenide Generation has annouced it will close the forty-year-old Lockwood Hills ash landfill in New York to build a ne…</td>\n",
       "    </tr>\n",
       "    <tr>\n",
       "      <th>4</th>\n",
       "      <td>2021-07-30 03:24:45</td>\n",
       "      <td>330.0</td>\n",
       "      <td>21.0</td>\n",
       "      <td>53.0</td>\n",
       "      <td>RT @intocryptoverse: 9 daily green candles in a row for #Bitcoin feels pretty good...\\n\\nbut it has me wondering...\\n\\nWhat would 10 daily gree…</td>\n",
       "    </tr>\n",
       "    <tr>\n",
       "      <th>...</th>\n",
       "      <td>...</td>\n",
       "      <td>...</td>\n",
       "      <td>...</td>\n",
       "      <td>...</td>\n",
       "      <td>...</td>\n",
       "    </tr>\n",
       "    <tr>\n",
       "      <th>295</th>\n",
       "      <td>2021-07-30 03:13:38</td>\n",
       "      <td>30199.0</td>\n",
       "      <td>19728.0</td>\n",
       "      <td>0.0</td>\n",
       "      <td>@Tristan_TWNC @cardano_whale 'bout tree fiddy https://t.co/a79kgTYOsi</td>\n",
       "    </tr>\n",
       "    <tr>\n",
       "      <th>296</th>\n",
       "      <td>2021-07-30 03:13:35</td>\n",
       "      <td>15583.0</td>\n",
       "      <td>126.0</td>\n",
       "      <td>186.0</td>\n",
       "      <td>RT @Cryptologist626: 💰$100 to 1 Follower In 24 hrs!\\n\\n☑️ RT and Follow @cardwallet_fi + RT 📌…</td>\n",
       "    </tr>\n",
       "    <tr>\n",
       "      <th>297</th>\n",
       "      <td>2021-07-30 03:13:35</td>\n",
       "      <td>3068.0</td>\n",
       "      <td>41.0</td>\n",
       "      <td>105.0</td>\n",
       "      <td>RT @YoroiWallet: A @YoroiWallet dApp connector will allow interactions between users and blockchain-based dApps on the Cardano blockchain.…</td>\n",
       "    </tr>\n",
       "    <tr>\n",
       "      <th>298</th>\n",
       "      <td>2021-07-30 03:13:33</td>\n",
       "      <td>67741.0</td>\n",
       "      <td>936.0</td>\n",
       "      <td>10.0</td>\n",
       "      <td>RT @AdAltruistic: When antagonists say “Cardano isn’t a fully functional product”. Are we talking about investing here?? Don’t the most shr…</td>\n",
       "    </tr>\n",
       "    <tr>\n",
       "      <th>299</th>\n",
       "      <td>2021-07-30 03:13:27</td>\n",
       "      <td>4204.0</td>\n",
       "      <td>678.0</td>\n",
       "      <td>590.0</td>\n",
       "      <td>RT @felgives: ‼️💎GEM Alert💎‼️\\n🚀CardanoEvo🚀\\n\\nCardano reflections, finally!\\nDevs contacted Cardano Team!\\n\\n✅$ADA Reflections\\n✅Innovative Buyba…</td>\n",
       "    </tr>\n",
       "  </tbody>\n",
       "</table>\n",
       "<p>300 rows × 5 columns</p>\n",
       "</div>"
      ],
      "text/plain": [
       "                   date  favourites  followers  retweets  \\\n",
       "0   2021-07-30 03:24:48       342.0        5.0    3396.0   \n",
       "1   2021-07-30 03:24:47      1956.0      481.0       0.0   \n",
       "2   2021-07-30 03:24:47      8954.0     3382.0       0.0   \n",
       "3   2021-07-30 03:24:45      8377.0      281.0     172.0   \n",
       "4   2021-07-30 03:24:45       330.0       21.0      53.0   \n",
       "..                  ...         ...        ...       ...   \n",
       "295 2021-07-30 03:13:38     30199.0    19728.0       0.0   \n",
       "296 2021-07-30 03:13:35     15583.0      126.0     186.0   \n",
       "297 2021-07-30 03:13:35      3068.0       41.0     105.0   \n",
       "298 2021-07-30 03:13:33     67741.0      936.0      10.0   \n",
       "299 2021-07-30 03:13:27      4204.0      678.0     590.0   \n",
       "\n",
       "                                                                                                                                                                                                            text  \n",
       "0                                                            RT @gethungrycrypto: 💲Giveaway 1 BNB / 24 hours 💲\\n\\n1. Follow @gethungrycrypto \\n2. Like this tweet\\n3. Retweet\\n4. Tag a friend\\n\\n🦛🦛🦛🦛🦛🦛🦛🦛🦛🦛🦛🦛🦛…  \n",
       "1    Word on the street is, Michael Burry got liquidated during the liquidation cascade on binance leading the price to 48k. He is usually early, but a bit too early.  #michealjburry #burry $btc #btc #Bitcoin  \n",
       "2                                                                                                                                                                          Amazon will accept #dogecoin #Bitcoin  \n",
       "3                                                                   RT @DocumentingBTC: Greenide Generation has annouced it will close the forty-year-old Lockwood Hills ash landfill in New York to build a ne…  \n",
       "4                                                               RT @intocryptoverse: 9 daily green candles in a row for #Bitcoin feels pretty good...\\n\\nbut it has me wondering...\\n\\nWhat would 10 daily gree…  \n",
       "..                                                                                                                                                                                                           ...  \n",
       "295                                                                                                                                        @Tristan_TWNC @cardano_whale 'bout tree fiddy https://t.co/a79kgTYOsi  \n",
       "296                                                                                                               RT @Cryptologist626: 💰$100 to 1 Follower In 24 hrs!\\n\\n☑️ RT and Follow @cardwallet_fi + RT 📌…  \n",
       "297                                                                  RT @YoroiWallet: A @YoroiWallet dApp connector will allow interactions between users and blockchain-based dApps on the Cardano blockchain.…  \n",
       "298                                                                 RT @AdAltruistic: When antagonists say “Cardano isn’t a fully functional product”. Are we talking about investing here?? Don’t the most shr…  \n",
       "299                                                          RT @felgives: ‼️💎GEM Alert💎‼️\\n🚀CardanoEvo🚀\\n\\nCardano reflections, finally!\\nDevs contacted Cardano Team!\\n\\n✅$ADA Reflections\\n✅Innovative Buyba…  \n",
       "\n",
       "[300 rows x 5 columns]"
      ]
     },
     "execution_count": 16,
     "metadata": {},
     "output_type": "execute_result"
    }
   ],
   "source": [
    "# Call on tweepy API and create dataframe\n",
    "search_words = (\"bitcoin\", \"etherium\", \"cardano\")\n",
    "crypto_data = pd.DataFrame()\n",
    "\n",
    "def get_data(data):\n",
    "    data = {\n",
    "        'text': data.full_text,\n",
    "        'date': data.created_at,\n",
    "        'followers': data.user.followers_count,\n",
    "        'favourites': data.user.favourites_count,\n",
    "        'retweets': data.retweet_count\n",
    "    }\n",
    "    return data\n",
    "\n",
    "for tweets in search_words:\n",
    "    comp_tweets = api.search(q=tweets, lang = 'en', result_type = 'recent', count=250, tweet_mode='extended')\n",
    "    \n",
    "    for tweet in comp_tweets:\n",
    "        row = get_data(tweet)\n",
    "        crypto_data = crypto_data.append(row, ignore_index=True)\n",
    "        \n",
    "crypto_data"
   ]
  },
  {
   "cell_type": "markdown",
   "id": "441897a1",
   "metadata": {},
   "source": [
    "## Data Preprocessing"
   ]
  },
  {
   "cell_type": "code",
   "execution_count": 17,
   "id": "f05c941c",
   "metadata": {},
   "outputs": [
    {
     "name": "stderr",
     "output_type": "stream",
     "text": [
      "/Users/memme11/opt/anaconda3/envs/mlenv/lib/python3.7/site-packages/ipykernel_launcher.py:6: SettingWithCopyWarning:\n",
      "\n",
      "\n",
      "A value is trying to be set on a copy of a slice from a DataFrame.\n",
      "Try using .loc[row_indexer,col_indexer] = value instead\n",
      "\n",
      "See the caveats in the documentation: https://pandas.pydata.org/pandas-docs/stable/user_guide/indexing.html#returning-a-view-versus-a-copy\n",
      "\n",
      "/Users/memme11/opt/anaconda3/envs/mlenv/lib/python3.7/site-packages/ipykernel_launcher.py:8: SettingWithCopyWarning:\n",
      "\n",
      "\n",
      "A value is trying to be set on a copy of a slice from a DataFrame.\n",
      "Try using .loc[row_indexer,col_indexer] = value instead\n",
      "\n",
      "See the caveats in the documentation: https://pandas.pydata.org/pandas-docs/stable/user_guide/indexing.html#returning-a-view-versus-a-copy\n",
      "\n",
      "/Users/memme11/opt/anaconda3/envs/mlenv/lib/python3.7/site-packages/ipykernel_launcher.py:9: SettingWithCopyWarning:\n",
      "\n",
      "\n",
      "A value is trying to be set on a copy of a slice from a DataFrame.\n",
      "Try using .loc[row_indexer,col_indexer] = value instead\n",
      "\n",
      "See the caveats in the documentation: https://pandas.pydata.org/pandas-docs/stable/user_guide/indexing.html#returning-a-view-versus-a-copy\n",
      "\n",
      "/Users/memme11/opt/anaconda3/envs/mlenv/lib/python3.7/site-packages/ipykernel_launcher.py:12: SettingWithCopyWarning:\n",
      "\n",
      "\n",
      "A value is trying to be set on a copy of a slice from a DataFrame.\n",
      "Try using .loc[row_indexer,col_indexer] = value instead\n",
      "\n",
      "See the caveats in the documentation: https://pandas.pydata.org/pandas-docs/stable/user_guide/indexing.html#returning-a-view-versus-a-copy\n",
      "\n"
     ]
    },
    {
     "data": {
      "text/html": [
       "<div>\n",
       "<style scoped>\n",
       "    .dataframe tbody tr th:only-of-type {\n",
       "        vertical-align: middle;\n",
       "    }\n",
       "\n",
       "    .dataframe tbody tr th {\n",
       "        vertical-align: top;\n",
       "    }\n",
       "\n",
       "    .dataframe thead th {\n",
       "        text-align: right;\n",
       "    }\n",
       "</style>\n",
       "<table border=\"1\" class=\"dataframe\">\n",
       "  <thead>\n",
       "    <tr style=\"text-align: right;\">\n",
       "      <th></th>\n",
       "      <th>favourites</th>\n",
       "      <th>followers</th>\n",
       "      <th>retweets</th>\n",
       "      <th>text</th>\n",
       "      <th>cleaned_text</th>\n",
       "    </tr>\n",
       "    <tr>\n",
       "      <th>date</th>\n",
       "      <th></th>\n",
       "      <th></th>\n",
       "      <th></th>\n",
       "      <th></th>\n",
       "      <th></th>\n",
       "    </tr>\n",
       "  </thead>\n",
       "  <tbody>\n",
       "    <tr>\n",
       "      <th>2021-07-30 03:24:47</th>\n",
       "      <td>1956.0</td>\n",
       "      <td>481.0</td>\n",
       "      <td>0.0</td>\n",
       "      <td>Word on the street is, Michael Burry got liquidated during the liquidation cascade on binance leading the price to 48k. He is usually early, but a bit too early.  #michealjburry #burry $btc #btc #Bitcoin</td>\n",
       "      <td>word on the street is, michael burry got liquidated during the liquidation cascade on binance leading the price to 48k. he is usually early, but a bit too early.   michealjburry  burry  btc  btc  bitcoin</td>\n",
       "    </tr>\n",
       "    <tr>\n",
       "      <th>2021-07-30 03:24:47</th>\n",
       "      <td>8954.0</td>\n",
       "      <td>3382.0</td>\n",
       "      <td>0.0</td>\n",
       "      <td>Amazon will accept #dogecoin #Bitcoin</td>\n",
       "      <td>amazon will accept  dogecoin  bitcoin</td>\n",
       "    </tr>\n",
       "    <tr>\n",
       "      <th>2021-07-30 03:24:45</th>\n",
       "      <td>8377.0</td>\n",
       "      <td>281.0</td>\n",
       "      <td>172.0</td>\n",
       "      <td>RT @DocumentingBTC: Greenide Generation has annouced it will close the forty-year-old Lockwood Hills ash landfill in New York to build a ne…</td>\n",
       "      <td>greenide generation has annouced it will close the forty year old lockwood hills ash landfill in new york to build a ne</td>\n",
       "    </tr>\n",
       "    <tr>\n",
       "      <th>2021-07-30 03:24:45</th>\n",
       "      <td>42989.0</td>\n",
       "      <td>662.0</td>\n",
       "      <td>5544.0</td>\n",
       "      <td>RT @flurbnb: $200 to one person in 72 hours\\n\\nRetweet &amp;amp; follow me &amp;amp; post proof of my notifs 🔔\\n\\n$FLUR #FLURARMY #FLURMOON #bitcoin   #ethereu…</td>\n",
       "      <td>200 to one person in 72 hours  retweet  amp  follow me  amp  post proof of my notifs     flur  flurarmy  flurmoon  bitcoin    ethereu</td>\n",
       "    </tr>\n",
       "    <tr>\n",
       "      <th>2021-07-30 03:24:44</th>\n",
       "      <td>2785.0</td>\n",
       "      <td>551.0</td>\n",
       "      <td>3396.0</td>\n",
       "      <td>RT @gethungrycrypto: 💲Giveaway 1 BNB / 24 hours 💲\\n\\n1. Follow @gethungrycrypto \\n2. Like this tweet\\n3. Retweet\\n4. Tag a friend\\n\\n🦛🦛🦛🦛🦛🦛🦛🦛🦛🦛🦛🦛🦛…</td>\n",
       "      <td>giveaway 1 bnb   24 hours    1. follow    2. like this tweet 3. retweet 4. tag a friend</td>\n",
       "    </tr>\n",
       "    <tr>\n",
       "      <th>2021-07-30 03:24:44</th>\n",
       "      <td>3457.0</td>\n",
       "      <td>215.0</td>\n",
       "      <td>5544.0</td>\n",
       "      <td>RT @flurbnb: $200 to one person in 72 hours\\n\\nRetweet &amp;amp; follow me &amp;amp; post proof of my notifs 🔔\\n\\n$FLUR #FLURARMY #FLURMOON #bitcoin   #ethereu…</td>\n",
       "      <td>200 to one person in 72 hours  retweet  amp  follow me  amp  post proof of my notifs     flur  flurarmy  flurmoon  bitcoin    ethereu</td>\n",
       "    </tr>\n",
       "    <tr>\n",
       "      <th>2021-07-30 03:24:43</th>\n",
       "      <td>54562.0</td>\n",
       "      <td>505.0</td>\n",
       "      <td>3396.0</td>\n",
       "      <td>RT @gethungrycrypto: 💲Giveaway 1 BNB / 24 hours 💲\\n\\n1. Follow @gethungrycrypto \\n2. Like this tweet\\n3. Retweet\\n4. Tag a friend\\n\\n🦛🦛🦛🦛🦛🦛🦛🦛🦛🦛🦛🦛🦛…</td>\n",
       "      <td>giveaway 1 bnb   24 hours    1. follow    2. like this tweet 3. retweet 4. tag a friend</td>\n",
       "    </tr>\n",
       "    <tr>\n",
       "      <th>2021-07-30 03:24:42</th>\n",
       "      <td>3982.0</td>\n",
       "      <td>145.0</td>\n",
       "      <td>3396.0</td>\n",
       "      <td>RT @gethungrycrypto: 💲Giveaway 1 BNB / 24 hours 💲\\n\\n1. Follow @gethungrycrypto \\n2. Like this tweet\\n3. Retweet\\n4. Tag a friend\\n\\n🦛🦛🦛🦛🦛🦛🦛🦛🦛🦛🦛🦛🦛…</td>\n",
       "      <td>giveaway 1 bnb   24 hours    1. follow    2. like this tweet 3. retweet 4. tag a friend</td>\n",
       "    </tr>\n",
       "    <tr>\n",
       "      <th>2021-07-30 03:24:40</th>\n",
       "      <td>1129.0</td>\n",
       "      <td>178.0</td>\n",
       "      <td>2098.0</td>\n",
       "      <td>RT @michael_saylor: #Bitcoin is now held by more than 114 million people, making it the fastest growing, most widely held financial asset i…</td>\n",
       "      <td>bitcoin is now held by more than 114 million people, making it the fastest growing, most widely held financial asset i</td>\n",
       "    </tr>\n",
       "    <tr>\n",
       "      <th>2021-07-30 03:24:40</th>\n",
       "      <td>3331.0</td>\n",
       "      <td>158.0</td>\n",
       "      <td>0.0</td>\n",
       "      <td>@CoinMarketCap Very strong and best project\\n\\n#CoinMarketCap #Crypto #Cryptocurrency #Bitcoin #Ethereum #Dogecoin #Altcoin #DeFi #SpaceY #SPAY #Airdrop</td>\n",
       "      <td>very strong and best project   coinmarketcap  crypto  cryptocurrency  bitcoin  ethereum  dogecoin  altcoin  defi  spacey  spay  airdrop</td>\n",
       "    </tr>\n",
       "    <tr>\n",
       "      <th>2021-07-30 03:24:39</th>\n",
       "      <td>8028.0</td>\n",
       "      <td>1380.0</td>\n",
       "      <td>0.0</td>\n",
       "      <td>#Bitcoin Price Prediction 🔮 $BTC https://t.co/6Veh4fJ1BJ</td>\n",
       "      <td>bitcoin price prediction    btc</td>\n",
       "    </tr>\n",
       "    <tr>\n",
       "      <th>2021-07-30 03:24:38</th>\n",
       "      <td>2703.0</td>\n",
       "      <td>313.0</td>\n",
       "      <td>62.0</td>\n",
       "      <td>RT @APompliano: They’d find a way to blame bitcoin if this happened. https://t.co/Pjf9u8ISIX</td>\n",
       "      <td>they d find a way to blame bitcoin if this happened.</td>\n",
       "    </tr>\n",
       "    <tr>\n",
       "      <th>2021-07-30 03:24:38</th>\n",
       "      <td>18203.0</td>\n",
       "      <td>92.0</td>\n",
       "      <td>733.0</td>\n",
       "      <td>RT @BitcoinMagazine: #Bitcoin is a store of value because “unlike fiat currencies, the government can’t come along and print trillions” of…</td>\n",
       "      <td>bitcoin is a store of value because  unlike fiat currencies, the government can t come along and print trillions  of</td>\n",
       "    </tr>\n",
       "    <tr>\n",
       "      <th>2021-07-30 03:24:37</th>\n",
       "      <td>2608.0</td>\n",
       "      <td>26.0</td>\n",
       "      <td>37.0</td>\n",
       "      <td>RT @youngtilopa: bitcoin hasn't had nine consecutive up days since 2015 👀 https://t.co/a4RaoJXJ6m</td>\n",
       "      <td>bitcoin hasn't had nine consecutive up days since 2015</td>\n",
       "    </tr>\n",
       "    <tr>\n",
       "      <th>2021-07-30 03:24:35</th>\n",
       "      <td>6278.0</td>\n",
       "      <td>51.0</td>\n",
       "      <td>5544.0</td>\n",
       "      <td>RT @flurbnb: $200 to one person in 72 hours\\n\\nRetweet &amp;amp; follow me &amp;amp; post proof of my notifs 🔔\\n\\n$FLUR #FLURARMY #FLURMOON #bitcoin   #ethereu…</td>\n",
       "      <td>200 to one person in 72 hours  retweet  amp  follow me  amp  post proof of my notifs     flur  flurarmy  flurmoon  bitcoin    ethereu</td>\n",
       "    </tr>\n",
       "    <tr>\n",
       "      <th>2021-07-30 03:24:34</th>\n",
       "      <td>1645.0</td>\n",
       "      <td>25.0</td>\n",
       "      <td>3396.0</td>\n",
       "      <td>RT @gethungrycrypto: 💲Giveaway 1 BNB / 24 hours 💲\\n\\n1. Follow @gethungrycrypto \\n2. Like this tweet\\n3. Retweet\\n4. Tag a friend\\n\\n🦛🦛🦛🦛🦛🦛🦛🦛🦛🦛🦛🦛🦛…</td>\n",
       "      <td>giveaway 1 bnb   24 hours    1. follow    2. like this tweet 3. retweet 4. tag a friend</td>\n",
       "    </tr>\n",
       "    <tr>\n",
       "      <th>2021-07-30 03:24:31</th>\n",
       "      <td>8198.0</td>\n",
       "      <td>402.0</td>\n",
       "      <td>21.0</td>\n",
       "      <td>RT @XBT002: I will literally never -- and I sincerely mean never -- talk to a normie friend about Bitcoin/DeFi ever again unless they since…</td>\n",
       "      <td>i will literally never    and i sincerely mean never    talk to a normie friend about bitcoin defi ever again unless they since</td>\n",
       "    </tr>\n",
       "    <tr>\n",
       "      <th>2021-07-30 03:24:30</th>\n",
       "      <td>5882.0</td>\n",
       "      <td>263.0</td>\n",
       "      <td>1.0</td>\n",
       "      <td>RT @AdamSobczak15: @PupDoge7 Its Amazing\\n#crypto #bitcoin #cryptocurrency #blockchain #btc #ethereum #forex #money #trading #bitcoinmining…</td>\n",
       "      <td>its amazing  crypto  bitcoin  cryptocurrency  blockchain  btc  ethereum  forex  money  trading  bitcoinmining</td>\n",
       "    </tr>\n",
       "    <tr>\n",
       "      <th>2021-07-30 03:24:28</th>\n",
       "      <td>27273.0</td>\n",
       "      <td>142.0</td>\n",
       "      <td>642.0</td>\n",
       "      <td>RT @michael_saylor: \"The time has come for more western governments to stop dismissing the crypto revolution...they should be more open to…</td>\n",
       "      <td>the time has come for more western governments to stop dismissing the crypto revolution...they should be more open to</td>\n",
       "    </tr>\n",
       "    <tr>\n",
       "      <th>2021-07-30 03:24:27</th>\n",
       "      <td>6836.0</td>\n",
       "      <td>18767.0</td>\n",
       "      <td>0.0</td>\n",
       "      <td>Thoughts? #bitcoin https://t.co/tY6cciaQjy</td>\n",
       "      <td>thoughts   bitcoin</td>\n",
       "    </tr>\n",
       "    <tr>\n",
       "      <th>2021-07-30 03:24:26</th>\n",
       "      <td>23489.0</td>\n",
       "      <td>20.0</td>\n",
       "      <td>1136.0</td>\n",
       "      <td>RT @RealMister_R: White ppl see Bitcoin go up and start doing the worm</td>\n",
       "      <td>white ppl see bitcoin go up and start doing the worm</td>\n",
       "    </tr>\n",
       "    <tr>\n",
       "      <th>2021-07-30 03:24:25</th>\n",
       "      <td>3826.0</td>\n",
       "      <td>38.0</td>\n",
       "      <td>2.0</td>\n",
       "      <td>RT @Vince_Prince_: #Bitcoin Hash Rate Increasing Again And Testing This Main Resistance Of November 2020 Low! https://t.co/DJMwTVSkCv</td>\n",
       "      <td>bitcoin hash rate increasing again and testing this main resistance of november 2020 low!</td>\n",
       "    </tr>\n",
       "    <tr>\n",
       "      <th>2021-07-30 03:24:24</th>\n",
       "      <td>13216.0</td>\n",
       "      <td>366.0</td>\n",
       "      <td>3396.0</td>\n",
       "      <td>RT @gethungrycrypto: 💲Giveaway 1 BNB / 24 hours 💲\\n\\n1. Follow @gethungrycrypto \\n2. Like this tweet\\n3. Retweet\\n4. Tag a friend\\n\\n🦛🦛🦛🦛🦛🦛🦛🦛🦛🦛🦛🦛🦛…</td>\n",
       "      <td>giveaway 1 bnb   24 hours    1. follow    2. like this tweet 3. retweet 4. tag a friend</td>\n",
       "    </tr>\n",
       "    <tr>\n",
       "      <th>2021-07-30 03:24:24</th>\n",
       "      <td>54562.0</td>\n",
       "      <td>505.0</td>\n",
       "      <td>18.0</td>\n",
       "      <td>RT @ViceToken_DeFi: Please join us tomorrow (Fri 30th July @ 6PM EST) for our first AMA live on Telegram.\\n\\nhttps://t.co/NfRZzQxaMl\\n\\nhttps:/…</td>\n",
       "      <td>please join us tomorrow  fri 30th july   6pm est  for our first ama live on telegram.     https</td>\n",
       "    </tr>\n",
       "    <tr>\n",
       "      <th>2021-07-30 03:24:24</th>\n",
       "      <td>97530.0</td>\n",
       "      <td>3092.0</td>\n",
       "      <td>1.0</td>\n",
       "      <td>RT @Norm_Farrell: It's my lucky week. I can avoid being jailed for something by sending bitcoin to someone, somewhere. A stranger promised…</td>\n",
       "      <td>it's my lucky week. i can avoid being jailed for something by sending bitcoin to someone, somewhere. a stranger promised</td>\n",
       "    </tr>\n",
       "    <tr>\n",
       "      <th>2021-07-30 03:24:21</th>\n",
       "      <td>23559.0</td>\n",
       "      <td>182.0</td>\n",
       "      <td>169.0</td>\n",
       "      <td>RT @tragic_figure12: White people see bitcoin go up and start doing the worm</td>\n",
       "      <td>white people see bitcoin go up and start doing the worm</td>\n",
       "    </tr>\n",
       "    <tr>\n",
       "      <th>2021-07-30 03:24:20</th>\n",
       "      <td>1176.0</td>\n",
       "      <td>19.0</td>\n",
       "      <td>8060.0</td>\n",
       "      <td>RT @Orhanbirinci61: DeFi Connect $40K crypto-adoption promo!\\n💵 Reward: 213b DFC coins\\n🎁 21300 users will be rewarded\\n🔁 Retweet this tweet\\n✅…</td>\n",
       "      <td>defi connect  40k crypto adoption promo!   reward  213b dfc coins   21300 users will be rewarded   retweet this tweet</td>\n",
       "    </tr>\n",
       "    <tr>\n",
       "      <th>2021-07-30 03:24:19</th>\n",
       "      <td>15125.0</td>\n",
       "      <td>7138.0</td>\n",
       "      <td>7.0</td>\n",
       "      <td>RT @cryptobuzznews: Wouldn’t surprise me to see #ETHUSDT rip to $3,000 overnight</td>\n",
       "      <td>wouldn t surprise me to see  ethusdt rip to  3,000 overnight</td>\n",
       "    </tr>\n",
       "    <tr>\n",
       "      <th>2021-07-30 03:24:16</th>\n",
       "      <td>7833.0</td>\n",
       "      <td>160.0</td>\n",
       "      <td>0.0</td>\n",
       "      <td>@labrahodl10 Im all in. What's left is for ramen noodles. \\n\\n#Bitcoin</td>\n",
       "      <td>im all in. what's left is for ramen noodles.    bitcoin</td>\n",
       "    </tr>\n",
       "    <tr>\n",
       "      <th>2021-07-30 03:24:15</th>\n",
       "      <td>2375.0</td>\n",
       "      <td>525.0</td>\n",
       "      <td>63.0</td>\n",
       "      <td>RT @InputOutputHK: Earlier today on #Cardano360 we shared an update on #AlonzoWhite progress. TLDR #Alonzo rollout on track! More users &amp;amp; i…</td>\n",
       "      <td>earlier today on  cardano360 we shared an update on  alonzowhite progress. tldr  alonzo rollout on track! more users  amp  i</td>\n",
       "    </tr>\n",
       "  </tbody>\n",
       "</table>\n",
       "</div>"
      ],
      "text/plain": [
       "                     favourites  followers  retweets  \\\n",
       "date                                                   \n",
       "2021-07-30 03:24:47      1956.0      481.0       0.0   \n",
       "2021-07-30 03:24:47      8954.0     3382.0       0.0   \n",
       "2021-07-30 03:24:45      8377.0      281.0     172.0   \n",
       "2021-07-30 03:24:45     42989.0      662.0    5544.0   \n",
       "2021-07-30 03:24:44      2785.0      551.0    3396.0   \n",
       "2021-07-30 03:24:44      3457.0      215.0    5544.0   \n",
       "2021-07-30 03:24:43     54562.0      505.0    3396.0   \n",
       "2021-07-30 03:24:42      3982.0      145.0    3396.0   \n",
       "2021-07-30 03:24:40      1129.0      178.0    2098.0   \n",
       "2021-07-30 03:24:40      3331.0      158.0       0.0   \n",
       "2021-07-30 03:24:39      8028.0     1380.0       0.0   \n",
       "2021-07-30 03:24:38      2703.0      313.0      62.0   \n",
       "2021-07-30 03:24:38     18203.0       92.0     733.0   \n",
       "2021-07-30 03:24:37      2608.0       26.0      37.0   \n",
       "2021-07-30 03:24:35      6278.0       51.0    5544.0   \n",
       "2021-07-30 03:24:34      1645.0       25.0    3396.0   \n",
       "2021-07-30 03:24:31      8198.0      402.0      21.0   \n",
       "2021-07-30 03:24:30      5882.0      263.0       1.0   \n",
       "2021-07-30 03:24:28     27273.0      142.0     642.0   \n",
       "2021-07-30 03:24:27      6836.0    18767.0       0.0   \n",
       "2021-07-30 03:24:26     23489.0       20.0    1136.0   \n",
       "2021-07-30 03:24:25      3826.0       38.0       2.0   \n",
       "2021-07-30 03:24:24     13216.0      366.0    3396.0   \n",
       "2021-07-30 03:24:24     54562.0      505.0      18.0   \n",
       "2021-07-30 03:24:24     97530.0     3092.0       1.0   \n",
       "2021-07-30 03:24:21     23559.0      182.0     169.0   \n",
       "2021-07-30 03:24:20      1176.0       19.0    8060.0   \n",
       "2021-07-30 03:24:19     15125.0     7138.0       7.0   \n",
       "2021-07-30 03:24:16      7833.0      160.0       0.0   \n",
       "2021-07-30 03:24:15      2375.0      525.0      63.0   \n",
       "\n",
       "                                                                                                                                                                                                                            text  \\\n",
       "date                                                                                                                                                                                                                               \n",
       "2021-07-30 03:24:47  Word on the street is, Michael Burry got liquidated during the liquidation cascade on binance leading the price to 48k. He is usually early, but a bit too early.  #michealjburry #burry $btc #btc #Bitcoin   \n",
       "2021-07-30 03:24:47                                                                                                                                                                        Amazon will accept #dogecoin #Bitcoin   \n",
       "2021-07-30 03:24:45                                                                 RT @DocumentingBTC: Greenide Generation has annouced it will close the forty-year-old Lockwood Hills ash landfill in New York to build a ne…   \n",
       "2021-07-30 03:24:45                                                     RT @flurbnb: $200 to one person in 72 hours\\n\\nRetweet &amp; follow me &amp; post proof of my notifs 🔔\\n\\n$FLUR #FLURARMY #FLURMOON #bitcoin   #ethereu…   \n",
       "2021-07-30 03:24:44                                                          RT @gethungrycrypto: 💲Giveaway 1 BNB / 24 hours 💲\\n\\n1. Follow @gethungrycrypto \\n2. Like this tweet\\n3. Retweet\\n4. Tag a friend\\n\\n🦛🦛🦛🦛🦛🦛🦛🦛🦛🦛🦛🦛🦛…   \n",
       "2021-07-30 03:24:44                                                     RT @flurbnb: $200 to one person in 72 hours\\n\\nRetweet &amp; follow me &amp; post proof of my notifs 🔔\\n\\n$FLUR #FLURARMY #FLURMOON #bitcoin   #ethereu…   \n",
       "2021-07-30 03:24:43                                                          RT @gethungrycrypto: 💲Giveaway 1 BNB / 24 hours 💲\\n\\n1. Follow @gethungrycrypto \\n2. Like this tweet\\n3. Retweet\\n4. Tag a friend\\n\\n🦛🦛🦛🦛🦛🦛🦛🦛🦛🦛🦛🦛🦛…   \n",
       "2021-07-30 03:24:42                                                          RT @gethungrycrypto: 💲Giveaway 1 BNB / 24 hours 💲\\n\\n1. Follow @gethungrycrypto \\n2. Like this tweet\\n3. Retweet\\n4. Tag a friend\\n\\n🦛🦛🦛🦛🦛🦛🦛🦛🦛🦛🦛🦛🦛…   \n",
       "2021-07-30 03:24:40                                                                 RT @michael_saylor: #Bitcoin is now held by more than 114 million people, making it the fastest growing, most widely held financial asset i…   \n",
       "2021-07-30 03:24:40                                                     @CoinMarketCap Very strong and best project\\n\\n#CoinMarketCap #Crypto #Cryptocurrency #Bitcoin #Ethereum #Dogecoin #Altcoin #DeFi #SpaceY #SPAY #Airdrop   \n",
       "2021-07-30 03:24:39                                                                                                                                                     #Bitcoin Price Prediction 🔮 $BTC https://t.co/6Veh4fJ1BJ   \n",
       "2021-07-30 03:24:38                                                                                                                 RT @APompliano: They’d find a way to blame bitcoin if this happened. https://t.co/Pjf9u8ISIX   \n",
       "2021-07-30 03:24:38                                                                  RT @BitcoinMagazine: #Bitcoin is a store of value because “unlike fiat currencies, the government can’t come along and print trillions” of…   \n",
       "2021-07-30 03:24:37                                                                                                            RT @youngtilopa: bitcoin hasn't had nine consecutive up days since 2015 👀 https://t.co/a4RaoJXJ6m   \n",
       "2021-07-30 03:24:35                                                     RT @flurbnb: $200 to one person in 72 hours\\n\\nRetweet &amp; follow me &amp; post proof of my notifs 🔔\\n\\n$FLUR #FLURARMY #FLURMOON #bitcoin   #ethereu…   \n",
       "2021-07-30 03:24:34                                                          RT @gethungrycrypto: 💲Giveaway 1 BNB / 24 hours 💲\\n\\n1. Follow @gethungrycrypto \\n2. Like this tweet\\n3. Retweet\\n4. Tag a friend\\n\\n🦛🦛🦛🦛🦛🦛🦛🦛🦛🦛🦛🦛🦛…   \n",
       "2021-07-30 03:24:31                                                                 RT @XBT002: I will literally never -- and I sincerely mean never -- talk to a normie friend about Bitcoin/DeFi ever again unless they since…   \n",
       "2021-07-30 03:24:30                                                                 RT @AdamSobczak15: @PupDoge7 Its Amazing\\n#crypto #bitcoin #cryptocurrency #blockchain #btc #ethereum #forex #money #trading #bitcoinmining…   \n",
       "2021-07-30 03:24:28                                                                  RT @michael_saylor: \"The time has come for more western governments to stop dismissing the crypto revolution...they should be more open to…   \n",
       "2021-07-30 03:24:27                                                                                                                                                                   Thoughts? #bitcoin https://t.co/tY6cciaQjy   \n",
       "2021-07-30 03:24:26                                                                                                                                       RT @RealMister_R: White ppl see Bitcoin go up and start doing the worm   \n",
       "2021-07-30 03:24:25                                                                        RT @Vince_Prince_: #Bitcoin Hash Rate Increasing Again And Testing This Main Resistance Of November 2020 Low! https://t.co/DJMwTVSkCv   \n",
       "2021-07-30 03:24:24                                                          RT @gethungrycrypto: 💲Giveaway 1 BNB / 24 hours 💲\\n\\n1. Follow @gethungrycrypto \\n2. Like this tweet\\n3. Retweet\\n4. Tag a friend\\n\\n🦛🦛🦛🦛🦛🦛🦛🦛🦛🦛🦛🦛🦛…   \n",
       "2021-07-30 03:24:24                                                             RT @ViceToken_DeFi: Please join us tomorrow (Fri 30th July @ 6PM EST) for our first AMA live on Telegram.\\n\\nhttps://t.co/NfRZzQxaMl\\n\\nhttps:/…   \n",
       "2021-07-30 03:24:24                                                                  RT @Norm_Farrell: It's my lucky week. I can avoid being jailed for something by sending bitcoin to someone, somewhere. A stranger promised…   \n",
       "2021-07-30 03:24:21                                                                                                                                 RT @tragic_figure12: White people see bitcoin go up and start doing the worm   \n",
       "2021-07-30 03:24:20                                                             RT @Orhanbirinci61: DeFi Connect $40K crypto-adoption promo!\\n💵 Reward: 213b DFC coins\\n🎁 21300 users will be rewarded\\n🔁 Retweet this tweet\\n✅…   \n",
       "2021-07-30 03:24:19                                                                                                                             RT @cryptobuzznews: Wouldn’t surprise me to see #ETHUSDT rip to $3,000 overnight   \n",
       "2021-07-30 03:24:16                                                                                                                                       @labrahodl10 Im all in. What's left is for ramen noodles. \\n\\n#Bitcoin   \n",
       "2021-07-30 03:24:15                                                             RT @InputOutputHK: Earlier today on #Cardano360 we shared an update on #AlonzoWhite progress. TLDR #Alonzo rollout on track! More users &amp; i…   \n",
       "\n",
       "                                                                                                                                                                                                                    cleaned_text  \n",
       "date                                                                                                                                                                                                                              \n",
       "2021-07-30 03:24:47  word on the street is, michael burry got liquidated during the liquidation cascade on binance leading the price to 48k. he is usually early, but a bit too early.   michealjburry  burry  btc  btc  bitcoin  \n",
       "2021-07-30 03:24:47                                                                                                                                                                        amazon will accept  dogecoin  bitcoin  \n",
       "2021-07-30 03:24:45                                                                                     greenide generation has annouced it will close the forty year old lockwood hills ash landfill in new york to build a ne   \n",
       "2021-07-30 03:24:45                                                                       200 to one person in 72 hours  retweet  amp  follow me  amp  post proof of my notifs     flur  flurarmy  flurmoon  bitcoin    ethereu   \n",
       "2021-07-30 03:24:44                                                                                                      giveaway 1 bnb   24 hours    1. follow    2. like this tweet 3. retweet 4. tag a friend                  \n",
       "2021-07-30 03:24:44                                                                       200 to one person in 72 hours  retweet  amp  follow me  amp  post proof of my notifs     flur  flurarmy  flurmoon  bitcoin    ethereu   \n",
       "2021-07-30 03:24:43                                                                                                      giveaway 1 bnb   24 hours    1. follow    2. like this tweet 3. retweet 4. tag a friend                  \n",
       "2021-07-30 03:24:42                                                                                                      giveaway 1 bnb   24 hours    1. follow    2. like this tweet 3. retweet 4. tag a friend                  \n",
       "2021-07-30 03:24:40                                                                                      bitcoin is now held by more than 114 million people, making it the fastest growing, most widely held financial asset i   \n",
       "2021-07-30 03:24:40                                                                      very strong and best project   coinmarketcap  crypto  cryptocurrency  bitcoin  ethereum  dogecoin  altcoin  defi  spacey  spay  airdrop  \n",
       "2021-07-30 03:24:39                                                                                                                                                                            bitcoin price prediction    btc    \n",
       "2021-07-30 03:24:38                                                                                                                                                       they d find a way to blame bitcoin if this happened.    \n",
       "2021-07-30 03:24:38                                                                                        bitcoin is a store of value because  unlike fiat currencies, the government can t come along and print trillions  of   \n",
       "2021-07-30 03:24:37                                                                                                                                                   bitcoin hasn't had nine consecutive up days since 2015      \n",
       "2021-07-30 03:24:35                                                                       200 to one person in 72 hours  retweet  amp  follow me  amp  post proof of my notifs     flur  flurarmy  flurmoon  bitcoin    ethereu   \n",
       "2021-07-30 03:24:34                                                                                                      giveaway 1 bnb   24 hours    1. follow    2. like this tweet 3. retweet 4. tag a friend                  \n",
       "2021-07-30 03:24:31                                                                             i will literally never    and i sincerely mean never    talk to a normie friend about bitcoin defi ever again unless they since   \n",
       "2021-07-30 03:24:30                                                                                               its amazing  crypto  bitcoin  cryptocurrency  blockchain  btc  ethereum  forex  money  trading  bitcoinmining   \n",
       "2021-07-30 03:24:28                                                                                       the time has come for more western governments to stop dismissing the crypto revolution...they should be more open to   \n",
       "2021-07-30 03:24:27                                                                                                                                                                                         thoughts   bitcoin    \n",
       "2021-07-30 03:24:26                                                                                                                                                         white ppl see bitcoin go up and start doing the worm  \n",
       "2021-07-30 03:24:25                                                                                                                  bitcoin hash rate increasing again and testing this main resistance of november 2020 low!    \n",
       "2021-07-30 03:24:24                                                                                                      giveaway 1 bnb   24 hours    1. follow    2. like this tweet 3. retweet 4. tag a friend                  \n",
       "2021-07-30 03:24:24                                                                                                           please join us tomorrow  fri 30th july   6pm est  for our first ama live on telegram.     https     \n",
       "2021-07-30 03:24:24                                                                                    it's my lucky week. i can avoid being jailed for something by sending bitcoin to someone, somewhere. a stranger promised   \n",
       "2021-07-30 03:24:21                                                                                                                                                      white people see bitcoin go up and start doing the worm  \n",
       "2021-07-30 03:24:20                                                                                     defi connect  40k crypto adoption promo!   reward  213b dfc coins   21300 users will be rewarded   retweet this tweet     \n",
       "2021-07-30 03:24:19                                                                                                                                                 wouldn t surprise me to see  ethusdt rip to  3,000 overnight  \n",
       "2021-07-30 03:24:16                                                                                                                                                      im all in. what's left is for ramen noodles.    bitcoin  \n",
       "2021-07-30 03:24:15                                                                                earlier today on  cardano360 we shared an update on  alonzowhite progress. tldr  alonzo rollout on track! more users  amp  i   "
      ]
     },
     "execution_count": 17,
     "metadata": {},
     "output_type": "execute_result"
    }
   ],
   "source": [
    "# Formatting\n",
    "# Keep only tweets with over 1000 favourites\n",
    "crypto_data = crypto_data.loc[crypto_data['favourites']>1000]\n",
    "\n",
    "# Clean text column using Regex\n",
    "crypto_data['cleaned_text'] = crypto_data['text']\n",
    "clean_text = '(RT) @[\\w]*:|(@[A-Za-z0-9]+)|([^\\,\\!\\.\\'\\%0-9A-Za-z \\t])|(\\w+:\\/\\/\\S+)'\n",
    "crypto_data['cleaned_text'] = crypto_data['cleaned_text'].str.replace(clean_text, \" \", regex=True)\n",
    "crypto_data['cleaned_text'] = crypto_data['cleaned_text'].str.lower()\n",
    "\n",
    "# Convert date dtype to datetime, set index, sort index and drop duplicates\n",
    "crypto_data['date'] = pd.to_datetime(crypto_data['date'])\n",
    "crypto_data = crypto_data.set_index('date').sort_index(ascending=False)\n",
    "crypto_data.drop_duplicates(inplace=True)\n",
    "\n",
    "crypto_data.head(30)"
   ]
  },
  {
   "cell_type": "markdown",
   "id": "977979bc",
   "metadata": {},
   "source": [
    "## Tokenization"
   ]
  },
  {
   "cell_type": "code",
   "execution_count": 20,
   "id": "fa3cf186",
   "metadata": {},
   "outputs": [
    {
     "data": {
      "text/html": [
       "<div>\n",
       "<style scoped>\n",
       "    .dataframe tbody tr th:only-of-type {\n",
       "        vertical-align: middle;\n",
       "    }\n",
       "\n",
       "    .dataframe tbody tr th {\n",
       "        vertical-align: top;\n",
       "    }\n",
       "\n",
       "    .dataframe thead th {\n",
       "        text-align: right;\n",
       "    }\n",
       "</style>\n",
       "<table border=\"1\" class=\"dataframe\">\n",
       "  <thead>\n",
       "    <tr style=\"text-align: right;\">\n",
       "      <th></th>\n",
       "      <th>favourites</th>\n",
       "      <th>followers</th>\n",
       "      <th>retweets</th>\n",
       "      <th>text</th>\n",
       "      <th>cleaned_text</th>\n",
       "      <th>tokens</th>\n",
       "      <th>final_clean</th>\n",
       "    </tr>\n",
       "    <tr>\n",
       "      <th>date</th>\n",
       "      <th></th>\n",
       "      <th></th>\n",
       "      <th></th>\n",
       "      <th></th>\n",
       "      <th></th>\n",
       "      <th></th>\n",
       "      <th></th>\n",
       "    </tr>\n",
       "  </thead>\n",
       "  <tbody>\n",
       "    <tr>\n",
       "      <th>2021-07-30 03:24:47</th>\n",
       "      <td>1956.0</td>\n",
       "      <td>481.0</td>\n",
       "      <td>0.0</td>\n",
       "      <td>Word on the street is, Michael Burry got liquidated during the liquidation cascade on binance leading the price to 48k. He is usually early, but a bit too early.  #michealjburry #burry $btc #btc #Bitcoin</td>\n",
       "      <td>word on the street is, michael burry got liquidated during the liquidation cascade on binance leading the price to 48k. he is usually early, but a bit too early.   michealjburry  burry  btc  btc  bitcoin</td>\n",
       "      <td>[word, street, michael, burry, get, liquidate, liquidation, cascade, binance, lead, price, usually, early, bit, early, michealjburry, burry, btc, btc, bitcoin]</td>\n",
       "      <td>word street michael burry get liquidate liquidation cascade binance lead price usually early bit early michealjburry burry btc btc bitcoin</td>\n",
       "    </tr>\n",
       "    <tr>\n",
       "      <th>2021-07-30 03:24:47</th>\n",
       "      <td>8954.0</td>\n",
       "      <td>3382.0</td>\n",
       "      <td>0.0</td>\n",
       "      <td>Amazon will accept #dogecoin #Bitcoin</td>\n",
       "      <td>amazon will accept  dogecoin  bitcoin</td>\n",
       "      <td>[amazon, accept, dogecoin, bitcoin]</td>\n",
       "      <td>amazon accept dogecoin bitcoin</td>\n",
       "    </tr>\n",
       "    <tr>\n",
       "      <th>2021-07-30 03:24:45</th>\n",
       "      <td>8377.0</td>\n",
       "      <td>281.0</td>\n",
       "      <td>172.0</td>\n",
       "      <td>RT @DocumentingBTC: Greenide Generation has annouced it will close the forty-year-old Lockwood Hills ash landfill in New York to build a ne…</td>\n",
       "      <td>greenide generation has annouced it will close the forty year old lockwood hills ash landfill in new york to build a ne</td>\n",
       "      <td>[greenide, generation, annouced, close, year, old, lockwood, hill, ash, landfill, new, york, build]</td>\n",
       "      <td>greenide generation annouced close year old lockwood hill ash landfill new york build</td>\n",
       "    </tr>\n",
       "    <tr>\n",
       "      <th>2021-07-30 03:24:45</th>\n",
       "      <td>42989.0</td>\n",
       "      <td>662.0</td>\n",
       "      <td>5544.0</td>\n",
       "      <td>RT @flurbnb: $200 to one person in 72 hours\\n\\nRetweet &amp;amp; follow me &amp;amp; post proof of my notifs 🔔\\n\\n$FLUR #FLURARMY #FLURMOON #bitcoin   #ethereu…</td>\n",
       "      <td>200 to one person in 72 hours  retweet  amp  follow me  amp  post proof of my notifs     flur  flurarmy  flurmoon  bitcoin    ethereu</td>\n",
       "      <td>[person, hour, retweet, amp, follow, amp, post, proof, notifs, flur, flurarmy, flurmoon, bitcoin, ethereu]</td>\n",
       "      <td>person hour retweet amp follow amp post proof notifs flur flurarmy flurmoon bitcoin ethereu</td>\n",
       "    </tr>\n",
       "    <tr>\n",
       "      <th>2021-07-30 03:24:44</th>\n",
       "      <td>2785.0</td>\n",
       "      <td>551.0</td>\n",
       "      <td>3396.0</td>\n",
       "      <td>RT @gethungrycrypto: 💲Giveaway 1 BNB / 24 hours 💲\\n\\n1. Follow @gethungrycrypto \\n2. Like this tweet\\n3. Retweet\\n4. Tag a friend\\n\\n🦛🦛🦛🦛🦛🦛🦛🦛🦛🦛🦛🦛🦛…</td>\n",
       "      <td>giveaway 1 bnb   24 hours    1. follow    2. like this tweet 3. retweet 4. tag a friend</td>\n",
       "      <td>[giveaway, bnb, hour, follow, like, tweet, retweet, tag, friend]</td>\n",
       "      <td>giveaway bnb hour follow like tweet retweet tag friend</td>\n",
       "    </tr>\n",
       "    <tr>\n",
       "      <th>...</th>\n",
       "      <td>...</td>\n",
       "      <td>...</td>\n",
       "      <td>...</td>\n",
       "      <td>...</td>\n",
       "      <td>...</td>\n",
       "      <td>...</td>\n",
       "      <td>...</td>\n",
       "    </tr>\n",
       "    <tr>\n",
       "      <th>2021-07-30 01:59:44</th>\n",
       "      <td>6009.0</td>\n",
       "      <td>98.0</td>\n",
       "      <td>0.0</td>\n",
       "      <td>#Bitcoin and #etherium rallying. If this continues into Friday cryptos should run. $BTBT $SPRT $NCTY</td>\n",
       "      <td>bitcoin and  etherium rallying. if this continues into friday cryptos should run.  btbt  sprt  ncty</td>\n",
       "      <td>[bitcoin, etherium, rally, continue, friday, cryptos, run, btbt, sprt, ncty]</td>\n",
       "      <td>bitcoin etherium rally continue friday cryptos run btbt sprt ncty</td>\n",
       "    </tr>\n",
       "    <tr>\n",
       "      <th>2021-07-30 01:52:56</th>\n",
       "      <td>7082.0</td>\n",
       "      <td>58.0</td>\n",
       "      <td>5.0</td>\n",
       "      <td>RT @NickelToken: We are 🔥BURNING🔥 5,000,000 $Nickel over the next 2 weeks! The first 750k has already been incinerated!\\n\\nhttps://t.co/wfl3W…</td>\n",
       "      <td>we are  burning  5,000,000  nickel over the next 2 weeks! the first 750k has already been incinerated!</td>\n",
       "      <td>[burning, nickel, week, incinerate]</td>\n",
       "      <td>burning nickel week incinerate</td>\n",
       "    </tr>\n",
       "    <tr>\n",
       "      <th>2021-07-30 01:52:46</th>\n",
       "      <td>90271.0</td>\n",
       "      <td>516.0</td>\n",
       "      <td>81.0</td>\n",
       "      <td>RT @Henrikaau: “Kindle” \\nMy first drop on @SuperRare, this Friday at 16.00 BST. \\n\\nhttps://t.co/E8pesR2NvY\\n#superrare #etherium #nft https:/…</td>\n",
       "      <td>kindle   my first drop on  , this friday at 16.00 bst.      superrare  etherium  nft https</td>\n",
       "      <td>[kindle, drop, friday, bst, superrare, etherium, nft, http]</td>\n",
       "      <td>kindle drop friday bst superrare etherium nft http</td>\n",
       "    </tr>\n",
       "    <tr>\n",
       "      <th>2021-07-30 01:51:23</th>\n",
       "      <td>1169.0</td>\n",
       "      <td>49.0</td>\n",
       "      <td>0.0</td>\n",
       "      <td>@AltcoinDailyio Etherium is the real mover right now</td>\n",
       "      <td>etherium is the real mover right now</td>\n",
       "      <td>[etherium, real, mover, right]</td>\n",
       "      <td>etherium real mover right</td>\n",
       "    </tr>\n",
       "    <tr>\n",
       "      <th>2021-07-30 01:46:24</th>\n",
       "      <td>2626.0</td>\n",
       "      <td>31.0</td>\n",
       "      <td>0.0</td>\n",
       "      <td>@itsALLrisky #Doge is about to break out along side #etherium</td>\n",
       "      <td>doge is about to break out along side  etherium</td>\n",
       "      <td>[doge, break, etherium]</td>\n",
       "      <td>doge break etherium</td>\n",
       "    </tr>\n",
       "  </tbody>\n",
       "</table>\n",
       "<p>192 rows × 7 columns</p>\n",
       "</div>"
      ],
      "text/plain": [
       "                     favourites  followers  retweets  \\\n",
       "date                                                   \n",
       "2021-07-30 03:24:47      1956.0      481.0       0.0   \n",
       "2021-07-30 03:24:47      8954.0     3382.0       0.0   \n",
       "2021-07-30 03:24:45      8377.0      281.0     172.0   \n",
       "2021-07-30 03:24:45     42989.0      662.0    5544.0   \n",
       "2021-07-30 03:24:44      2785.0      551.0    3396.0   \n",
       "...                         ...        ...       ...   \n",
       "2021-07-30 01:59:44      6009.0       98.0       0.0   \n",
       "2021-07-30 01:52:56      7082.0       58.0       5.0   \n",
       "2021-07-30 01:52:46     90271.0      516.0      81.0   \n",
       "2021-07-30 01:51:23      1169.0       49.0       0.0   \n",
       "2021-07-30 01:46:24      2626.0       31.0       0.0   \n",
       "\n",
       "                                                                                                                                                                                                                            text  \\\n",
       "date                                                                                                                                                                                                                               \n",
       "2021-07-30 03:24:47  Word on the street is, Michael Burry got liquidated during the liquidation cascade on binance leading the price to 48k. He is usually early, but a bit too early.  #michealjburry #burry $btc #btc #Bitcoin   \n",
       "2021-07-30 03:24:47                                                                                                                                                                        Amazon will accept #dogecoin #Bitcoin   \n",
       "2021-07-30 03:24:45                                                                 RT @DocumentingBTC: Greenide Generation has annouced it will close the forty-year-old Lockwood Hills ash landfill in New York to build a ne…   \n",
       "2021-07-30 03:24:45                                                     RT @flurbnb: $200 to one person in 72 hours\\n\\nRetweet &amp; follow me &amp; post proof of my notifs 🔔\\n\\n$FLUR #FLURARMY #FLURMOON #bitcoin   #ethereu…   \n",
       "2021-07-30 03:24:44                                                          RT @gethungrycrypto: 💲Giveaway 1 BNB / 24 hours 💲\\n\\n1. Follow @gethungrycrypto \\n2. Like this tweet\\n3. Retweet\\n4. Tag a friend\\n\\n🦛🦛🦛🦛🦛🦛🦛🦛🦛🦛🦛🦛🦛…   \n",
       "...                                                                                                                                                                                                                          ...   \n",
       "2021-07-30 01:59:44                                                                                                         #Bitcoin and #etherium rallying. If this continues into Friday cryptos should run. $BTBT $SPRT $NCTY   \n",
       "2021-07-30 01:52:56                                                               RT @NickelToken: We are 🔥BURNING🔥 5,000,000 $Nickel over the next 2 weeks! The first 750k has already been incinerated!\\n\\nhttps://t.co/wfl3W…   \n",
       "2021-07-30 01:52:46                                                             RT @Henrikaau: “Kindle” \\nMy first drop on @SuperRare, this Friday at 16.00 BST. \\n\\nhttps://t.co/E8pesR2NvY\\n#superrare #etherium #nft https:/…   \n",
       "2021-07-30 01:51:23                                                                                                                                                         @AltcoinDailyio Etherium is the real mover right now   \n",
       "2021-07-30 01:46:24                                                                                                                                                @itsALLrisky #Doge is about to break out along side #etherium   \n",
       "\n",
       "                                                                                                                                                                                                                    cleaned_text  \\\n",
       "date                                                                                                                                                                                                                               \n",
       "2021-07-30 03:24:47  word on the street is, michael burry got liquidated during the liquidation cascade on binance leading the price to 48k. he is usually early, but a bit too early.   michealjburry  burry  btc  btc  bitcoin   \n",
       "2021-07-30 03:24:47                                                                                                                                                                        amazon will accept  dogecoin  bitcoin   \n",
       "2021-07-30 03:24:45                                                                                     greenide generation has annouced it will close the forty year old lockwood hills ash landfill in new york to build a ne    \n",
       "2021-07-30 03:24:45                                                                       200 to one person in 72 hours  retweet  amp  follow me  amp  post proof of my notifs     flur  flurarmy  flurmoon  bitcoin    ethereu    \n",
       "2021-07-30 03:24:44                                                                                                      giveaway 1 bnb   24 hours    1. follow    2. like this tweet 3. retweet 4. tag a friend                   \n",
       "...                                                                                                                                                                                                                          ...   \n",
       "2021-07-30 01:59:44                                                                                                          bitcoin and  etherium rallying. if this continues into friday cryptos should run.  btbt  sprt  ncty   \n",
       "2021-07-30 01:52:56                                                                                                    we are  burning  5,000,000  nickel over the next 2 weeks! the first 750k has already been incinerated!      \n",
       "2021-07-30 01:52:46                                                                                                                kindle   my first drop on  , this friday at 16.00 bst.      superrare  etherium  nft https      \n",
       "2021-07-30 01:51:23                                                                                                                                                                         etherium is the real mover right now   \n",
       "2021-07-30 01:46:24                                                                                                                                                              doge is about to break out along side  etherium   \n",
       "\n",
       "                                                                                                                                                                              tokens  \\\n",
       "date                                                                                                                                                                                   \n",
       "2021-07-30 03:24:47  [word, street, michael, burry, get, liquidate, liquidation, cascade, binance, lead, price, usually, early, bit, early, michealjburry, burry, btc, btc, bitcoin]   \n",
       "2021-07-30 03:24:47                                                                                                                              [amazon, accept, dogecoin, bitcoin]   \n",
       "2021-07-30 03:24:45                                                              [greenide, generation, annouced, close, year, old, lockwood, hill, ash, landfill, new, york, build]   \n",
       "2021-07-30 03:24:45                                                       [person, hour, retweet, amp, follow, amp, post, proof, notifs, flur, flurarmy, flurmoon, bitcoin, ethereu]   \n",
       "2021-07-30 03:24:44                                                                                                 [giveaway, bnb, hour, follow, like, tweet, retweet, tag, friend]   \n",
       "...                                                                                                                                                                              ...   \n",
       "2021-07-30 01:59:44                                                                                     [bitcoin, etherium, rally, continue, friday, cryptos, run, btbt, sprt, ncty]   \n",
       "2021-07-30 01:52:56                                                                                                                              [burning, nickel, week, incinerate]   \n",
       "2021-07-30 01:52:46                                                                                                      [kindle, drop, friday, bst, superrare, etherium, nft, http]   \n",
       "2021-07-30 01:51:23                                                                                                                                   [etherium, real, mover, right]   \n",
       "2021-07-30 01:46:24                                                                                                                                          [doge, break, etherium]   \n",
       "\n",
       "                                                                                                                                                    final_clean  \n",
       "date                                                                                                                                                             \n",
       "2021-07-30 03:24:47  word street michael burry get liquidate liquidation cascade binance lead price usually early bit early michealjburry burry btc btc bitcoin  \n",
       "2021-07-30 03:24:47                                                                                                              amazon accept dogecoin bitcoin  \n",
       "2021-07-30 03:24:45                                                       greenide generation annouced close year old lockwood hill ash landfill new york build  \n",
       "2021-07-30 03:24:45                                                 person hour retweet amp follow amp post proof notifs flur flurarmy flurmoon bitcoin ethereu  \n",
       "2021-07-30 03:24:44                                                                                      giveaway bnb hour follow like tweet retweet tag friend  \n",
       "...                                                                                                                                                         ...  \n",
       "2021-07-30 01:59:44                                                                           bitcoin etherium rally continue friday cryptos run btbt sprt ncty  \n",
       "2021-07-30 01:52:56                                                                                                              burning nickel week incinerate  \n",
       "2021-07-30 01:52:46                                                                                          kindle drop friday bst superrare etherium nft http  \n",
       "2021-07-30 01:51:23                                                                                                                   etherium real mover right  \n",
       "2021-07-30 01:46:24                                                                                                                         doge break etherium  \n",
       "\n",
       "[192 rows x 7 columns]"
      ]
     },
     "execution_count": 20,
     "metadata": {},
     "output_type": "execute_result"
    }
   ],
   "source": [
    "# Tokenizing Functions\n",
    "\n",
    "def get_wordnet_pos(word):\n",
    "# Map POS tag to the first character lemmatize() accepts\n",
    "    tag = nltk.pos_tag([word])[0][1][0].upper()\n",
    "    tag_dict = {\"J\": wordnet.ADJ,\n",
    "                \"N\": wordnet.NOUN,\n",
    "                \"V\": wordnet.VERB,\n",
    "                \"R\": wordnet.ADV}\n",
    "\n",
    "    return tag_dict.get(tag, wordnet.NOUN)\n",
    "\n",
    "# Function for tokenizing tweets (already cleaned using regex)\n",
    "def second_clean(tweet):\n",
    "    tweet = remove_stopwords(tweet) # remove stopwords with Gensim\n",
    "\n",
    "    lemmatizer = WordNetLemmatizer()\n",
    "    tokenized = [lemmatizer.lemmatize(w, get_wordnet_pos(w)) for w in nltk.word_tokenize(tweet)]\n",
    "    \n",
    "    # remove left over stop words with nltk\n",
    "    tokenized = [token for token in tokenized if token not in stopwords.words(\"english\")] \n",
    "\n",
    "    # remove non-alpha characters and keep the words of length >2 only\n",
    "    tokenized = [token for token in tokenized if token.isalpha() and len(token)>2]\n",
    "\n",
    "    return tokenized\n",
    "\n",
    "# Function for joining tokenized list into string\n",
    "def combine_tokens(tokenized): \n",
    "    non_tokenized = ' '.join([w for w in tokenized])\n",
    "    return non_tokenized\n",
    "\n",
    "# Execute function \n",
    "crypto_data['tokens'] = crypto_data['cleaned_text'].apply(lambda x: second_clean(x))\n",
    "crypto_data['final_clean'] = crypto_data['tokens'].apply(lambda x: combine_tokens(x))\n",
    "\n",
    "crypto_data"
   ]
  },
  {
   "cell_type": "markdown",
   "id": "959f22e1",
   "metadata": {},
   "source": [
    "## NLP - Vader Sentiment Model"
   ]
  },
  {
   "cell_type": "code",
   "execution_count": 21,
   "id": "17483407",
   "metadata": {},
   "outputs": [
    {
     "name": "stdout",
     "output_type": "stream",
     "text": [
      "Vader analysis took: 0.001minutes\n"
     ]
    },
    {
     "data": {
      "text/html": [
       "<div>\n",
       "<style scoped>\n",
       "    .dataframe tbody tr th:only-of-type {\n",
       "        vertical-align: middle;\n",
       "    }\n",
       "\n",
       "    .dataframe tbody tr th {\n",
       "        vertical-align: top;\n",
       "    }\n",
       "\n",
       "    .dataframe thead th {\n",
       "        text-align: right;\n",
       "    }\n",
       "</style>\n",
       "<table border=\"1\" class=\"dataframe\">\n",
       "  <thead>\n",
       "    <tr style=\"text-align: right;\">\n",
       "      <th></th>\n",
       "      <th>favourites</th>\n",
       "      <th>followers</th>\n",
       "      <th>retweets</th>\n",
       "      <th>text</th>\n",
       "      <th>cleaned_text</th>\n",
       "      <th>tokens</th>\n",
       "      <th>final_clean</th>\n",
       "      <th>vader_clean_scores</th>\n",
       "      <th>vader_clean_polarity</th>\n",
       "      <th>vader_clean_sentiment</th>\n",
       "    </tr>\n",
       "    <tr>\n",
       "      <th>date</th>\n",
       "      <th></th>\n",
       "      <th></th>\n",
       "      <th></th>\n",
       "      <th></th>\n",
       "      <th></th>\n",
       "      <th></th>\n",
       "      <th></th>\n",
       "      <th></th>\n",
       "      <th></th>\n",
       "      <th></th>\n",
       "    </tr>\n",
       "  </thead>\n",
       "  <tbody>\n",
       "    <tr>\n",
       "      <th>2021-07-30 03:24:47</th>\n",
       "      <td>1956.0</td>\n",
       "      <td>481.0</td>\n",
       "      <td>0.0</td>\n",
       "      <td>Word on the street is, Michael Burry got liquidated during the liquidation cascade on binance leading the price to 48k. He is usually early, but a bit too early.  #michealjburry #burry $btc #btc #Bitcoin</td>\n",
       "      <td>word on the street is, michael burry got liquidated during the liquidation cascade on binance leading the price to 48k. he is usually early, but a bit too early.   michealjburry  burry  btc  btc  bitcoin</td>\n",
       "      <td>[word, street, michael, burry, get, liquidate, liquidation, cascade, binance, lead, price, usually, early, bit, early, michealjburry, burry, btc, btc, bitcoin]</td>\n",
       "      <td>word street michael burry get liquidate liquidation cascade binance lead price usually early bit early michealjburry burry btc btc bitcoin</td>\n",
       "      <td>{'neg': 0.0, 'neu': 1.0, 'pos': 0.0, 'compound': 0.0}</td>\n",
       "      <td>0.0000</td>\n",
       "      <td>neutral</td>\n",
       "    </tr>\n",
       "    <tr>\n",
       "      <th>2021-07-30 03:24:47</th>\n",
       "      <td>8954.0</td>\n",
       "      <td>3382.0</td>\n",
       "      <td>0.0</td>\n",
       "      <td>Amazon will accept #dogecoin #Bitcoin</td>\n",
       "      <td>amazon will accept  dogecoin  bitcoin</td>\n",
       "      <td>[amazon, accept, dogecoin, bitcoin]</td>\n",
       "      <td>amazon accept dogecoin bitcoin</td>\n",
       "      <td>{'neg': 0.0, 'neu': 0.411, 'pos': 0.589, 'compound': 0.5106}</td>\n",
       "      <td>0.5106</td>\n",
       "      <td>positive</td>\n",
       "    </tr>\n",
       "    <tr>\n",
       "      <th>2021-07-30 03:24:45</th>\n",
       "      <td>8377.0</td>\n",
       "      <td>281.0</td>\n",
       "      <td>172.0</td>\n",
       "      <td>RT @DocumentingBTC: Greenide Generation has annouced it will close the forty-year-old Lockwood Hills ash landfill in New York to build a ne…</td>\n",
       "      <td>greenide generation has annouced it will close the forty year old lockwood hills ash landfill in new york to build a ne</td>\n",
       "      <td>[greenide, generation, annouced, close, year, old, lockwood, hill, ash, landfill, new, york, build]</td>\n",
       "      <td>greenide generation annouced close year old lockwood hill ash landfill new york build</td>\n",
       "      <td>{'neg': 0.0, 'neu': 1.0, 'pos': 0.0, 'compound': 0.0}</td>\n",
       "      <td>0.0000</td>\n",
       "      <td>neutral</td>\n",
       "    </tr>\n",
       "    <tr>\n",
       "      <th>2021-07-30 03:24:45</th>\n",
       "      <td>42989.0</td>\n",
       "      <td>662.0</td>\n",
       "      <td>5544.0</td>\n",
       "      <td>RT @flurbnb: $200 to one person in 72 hours\\n\\nRetweet &amp;amp; follow me &amp;amp; post proof of my notifs 🔔\\n\\n$FLUR #FLURARMY #FLURMOON #bitcoin   #ethereu…</td>\n",
       "      <td>200 to one person in 72 hours  retweet  amp  follow me  amp  post proof of my notifs     flur  flurarmy  flurmoon  bitcoin    ethereu</td>\n",
       "      <td>[person, hour, retweet, amp, follow, amp, post, proof, notifs, flur, flurarmy, flurmoon, bitcoin, ethereu]</td>\n",
       "      <td>person hour retweet amp follow amp post proof notifs flur flurarmy flurmoon bitcoin ethereu</td>\n",
       "      <td>{'neg': 0.0, 'neu': 1.0, 'pos': 0.0, 'compound': 0.0}</td>\n",
       "      <td>0.0000</td>\n",
       "      <td>neutral</td>\n",
       "    </tr>\n",
       "    <tr>\n",
       "      <th>2021-07-30 03:24:44</th>\n",
       "      <td>2785.0</td>\n",
       "      <td>551.0</td>\n",
       "      <td>3396.0</td>\n",
       "      <td>RT @gethungrycrypto: 💲Giveaway 1 BNB / 24 hours 💲\\n\\n1. Follow @gethungrycrypto \\n2. Like this tweet\\n3. Retweet\\n4. Tag a friend\\n\\n🦛🦛🦛🦛🦛🦛🦛🦛🦛🦛🦛🦛🦛…</td>\n",
       "      <td>giveaway 1 bnb   24 hours    1. follow    2. like this tweet 3. retweet 4. tag a friend</td>\n",
       "      <td>[giveaway, bnb, hour, follow, like, tweet, retweet, tag, friend]</td>\n",
       "      <td>giveaway bnb hour follow like tweet retweet tag friend</td>\n",
       "      <td>{'neg': 0.0, 'neu': 0.725, 'pos': 0.275, 'compound': 0.6908}</td>\n",
       "      <td>0.6908</td>\n",
       "      <td>positive</td>\n",
       "    </tr>\n",
       "    <tr>\n",
       "      <th>2021-07-30 03:24:44</th>\n",
       "      <td>3457.0</td>\n",
       "      <td>215.0</td>\n",
       "      <td>5544.0</td>\n",
       "      <td>RT @flurbnb: $200 to one person in 72 hours\\n\\nRetweet &amp;amp; follow me &amp;amp; post proof of my notifs 🔔\\n\\n$FLUR #FLURARMY #FLURMOON #bitcoin   #ethereu…</td>\n",
       "      <td>200 to one person in 72 hours  retweet  amp  follow me  amp  post proof of my notifs     flur  flurarmy  flurmoon  bitcoin    ethereu</td>\n",
       "      <td>[person, hour, retweet, amp, follow, amp, post, proof, notifs, flur, flurarmy, flurmoon, bitcoin, ethereu]</td>\n",
       "      <td>person hour retweet amp follow amp post proof notifs flur flurarmy flurmoon bitcoin ethereu</td>\n",
       "      <td>{'neg': 0.0, 'neu': 1.0, 'pos': 0.0, 'compound': 0.0}</td>\n",
       "      <td>0.0000</td>\n",
       "      <td>neutral</td>\n",
       "    </tr>\n",
       "    <tr>\n",
       "      <th>2021-07-30 03:24:43</th>\n",
       "      <td>54562.0</td>\n",
       "      <td>505.0</td>\n",
       "      <td>3396.0</td>\n",
       "      <td>RT @gethungrycrypto: 💲Giveaway 1 BNB / 24 hours 💲\\n\\n1. Follow @gethungrycrypto \\n2. Like this tweet\\n3. Retweet\\n4. Tag a friend\\n\\n🦛🦛🦛🦛🦛🦛🦛🦛🦛🦛🦛🦛🦛…</td>\n",
       "      <td>giveaway 1 bnb   24 hours    1. follow    2. like this tweet 3. retweet 4. tag a friend</td>\n",
       "      <td>[giveaway, bnb, hour, follow, like, tweet, retweet, tag, friend]</td>\n",
       "      <td>giveaway bnb hour follow like tweet retweet tag friend</td>\n",
       "      <td>{'neg': 0.0, 'neu': 0.725, 'pos': 0.275, 'compound': 0.6908}</td>\n",
       "      <td>0.6908</td>\n",
       "      <td>positive</td>\n",
       "    </tr>\n",
       "    <tr>\n",
       "      <th>2021-07-30 03:24:42</th>\n",
       "      <td>3982.0</td>\n",
       "      <td>145.0</td>\n",
       "      <td>3396.0</td>\n",
       "      <td>RT @gethungrycrypto: 💲Giveaway 1 BNB / 24 hours 💲\\n\\n1. Follow @gethungrycrypto \\n2. Like this tweet\\n3. Retweet\\n4. Tag a friend\\n\\n🦛🦛🦛🦛🦛🦛🦛🦛🦛🦛🦛🦛🦛…</td>\n",
       "      <td>giveaway 1 bnb   24 hours    1. follow    2. like this tweet 3. retweet 4. tag a friend</td>\n",
       "      <td>[giveaway, bnb, hour, follow, like, tweet, retweet, tag, friend]</td>\n",
       "      <td>giveaway bnb hour follow like tweet retweet tag friend</td>\n",
       "      <td>{'neg': 0.0, 'neu': 0.725, 'pos': 0.275, 'compound': 0.6908}</td>\n",
       "      <td>0.6908</td>\n",
       "      <td>positive</td>\n",
       "    </tr>\n",
       "    <tr>\n",
       "      <th>2021-07-30 03:24:40</th>\n",
       "      <td>1129.0</td>\n",
       "      <td>178.0</td>\n",
       "      <td>2098.0</td>\n",
       "      <td>RT @michael_saylor: #Bitcoin is now held by more than 114 million people, making it the fastest growing, most widely held financial asset i…</td>\n",
       "      <td>bitcoin is now held by more than 114 million people, making it the fastest growing, most widely held financial asset i</td>\n",
       "      <td>[bitcoin, held, million, people, make, fast, grow, widely, held, financial, asset]</td>\n",
       "      <td>bitcoin held million people make fast grow widely held financial asset</td>\n",
       "      <td>{'neg': 0.0, 'neu': 0.819, 'pos': 0.181, 'compound': 0.4939}</td>\n",
       "      <td>0.4939</td>\n",
       "      <td>positive</td>\n",
       "    </tr>\n",
       "    <tr>\n",
       "      <th>2021-07-30 03:24:40</th>\n",
       "      <td>3331.0</td>\n",
       "      <td>158.0</td>\n",
       "      <td>0.0</td>\n",
       "      <td>@CoinMarketCap Very strong and best project\\n\\n#CoinMarketCap #Crypto #Cryptocurrency #Bitcoin #Ethereum #Dogecoin #Altcoin #DeFi #SpaceY #SPAY #Airdrop</td>\n",
       "      <td>very strong and best project   coinmarketcap  crypto  cryptocurrency  bitcoin  ethereum  dogecoin  altcoin  defi  spacey  spay  airdrop</td>\n",
       "      <td>[strong, best, project, coinmarketcap, crypto, cryptocurrency, bitcoin, ethereum, dogecoin, altcoin, defi, spacey, spay, airdrop]</td>\n",
       "      <td>strong best project coinmarketcap crypto cryptocurrency bitcoin ethereum dogecoin altcoin defi spacey spay airdrop</td>\n",
       "      <td>{'neg': 0.0, 'neu': 0.635, 'pos': 0.365, 'compound': 0.8425}</td>\n",
       "      <td>0.8425</td>\n",
       "      <td>positive</td>\n",
       "    </tr>\n",
       "    <tr>\n",
       "      <th>2021-07-30 03:24:39</th>\n",
       "      <td>8028.0</td>\n",
       "      <td>1380.0</td>\n",
       "      <td>0.0</td>\n",
       "      <td>#Bitcoin Price Prediction 🔮 $BTC https://t.co/6Veh4fJ1BJ</td>\n",
       "      <td>bitcoin price prediction    btc</td>\n",
       "      <td>[bitcoin, price, prediction, btc]</td>\n",
       "      <td>bitcoin price prediction btc</td>\n",
       "      <td>{'neg': 0.0, 'neu': 1.0, 'pos': 0.0, 'compound': 0.0}</td>\n",
       "      <td>0.0000</td>\n",
       "      <td>neutral</td>\n",
       "    </tr>\n",
       "    <tr>\n",
       "      <th>2021-07-30 03:24:38</th>\n",
       "      <td>2703.0</td>\n",
       "      <td>313.0</td>\n",
       "      <td>62.0</td>\n",
       "      <td>RT @APompliano: They’d find a way to blame bitcoin if this happened. https://t.co/Pjf9u8ISIX</td>\n",
       "      <td>they d find a way to blame bitcoin if this happened.</td>\n",
       "      <td>[way, blame, bitcoin, happen]</td>\n",
       "      <td>way blame bitcoin happen</td>\n",
       "      <td>{'neg': 0.194, 'neu': 0.806, 'pos': 0.0, 'compound': -0.34}</td>\n",
       "      <td>-0.3400</td>\n",
       "      <td>negative</td>\n",
       "    </tr>\n",
       "    <tr>\n",
       "      <th>2021-07-30 03:24:38</th>\n",
       "      <td>18203.0</td>\n",
       "      <td>92.0</td>\n",
       "      <td>733.0</td>\n",
       "      <td>RT @BitcoinMagazine: #Bitcoin is a store of value because “unlike fiat currencies, the government can’t come along and print trillions” of…</td>\n",
       "      <td>bitcoin is a store of value because  unlike fiat currencies, the government can t come along and print trillions  of</td>\n",
       "      <td>[bitcoin, store, value, unlike, fiat, currency, government, come, print, trillion]</td>\n",
       "      <td>bitcoin store value unlike fiat currency government come print trillion</td>\n",
       "      <td>{'neg': 0.0, 'neu': 0.888, 'pos': 0.112, 'compound': 0.34}</td>\n",
       "      <td>0.3400</td>\n",
       "      <td>positive</td>\n",
       "    </tr>\n",
       "    <tr>\n",
       "      <th>2021-07-30 03:24:37</th>\n",
       "      <td>2608.0</td>\n",
       "      <td>26.0</td>\n",
       "      <td>37.0</td>\n",
       "      <td>RT @youngtilopa: bitcoin hasn't had nine consecutive up days since 2015 👀 https://t.co/a4RaoJXJ6m</td>\n",
       "      <td>bitcoin hasn't had nine consecutive up days since 2015</td>\n",
       "      <td>[bitcoin, consecutive, day]</td>\n",
       "      <td>bitcoin consecutive day</td>\n",
       "      <td>{'neg': 0.0, 'neu': 1.0, 'pos': 0.0, 'compound': 0.0}</td>\n",
       "      <td>0.0000</td>\n",
       "      <td>neutral</td>\n",
       "    </tr>\n",
       "    <tr>\n",
       "      <th>2021-07-30 03:24:35</th>\n",
       "      <td>6278.0</td>\n",
       "      <td>51.0</td>\n",
       "      <td>5544.0</td>\n",
       "      <td>RT @flurbnb: $200 to one person in 72 hours\\n\\nRetweet &amp;amp; follow me &amp;amp; post proof of my notifs 🔔\\n\\n$FLUR #FLURARMY #FLURMOON #bitcoin   #ethereu…</td>\n",
       "      <td>200 to one person in 72 hours  retweet  amp  follow me  amp  post proof of my notifs     flur  flurarmy  flurmoon  bitcoin    ethereu</td>\n",
       "      <td>[person, hour, retweet, amp, follow, amp, post, proof, notifs, flur, flurarmy, flurmoon, bitcoin, ethereu]</td>\n",
       "      <td>person hour retweet amp follow amp post proof notifs flur flurarmy flurmoon bitcoin ethereu</td>\n",
       "      <td>{'neg': 0.0, 'neu': 1.0, 'pos': 0.0, 'compound': 0.0}</td>\n",
       "      <td>0.0000</td>\n",
       "      <td>neutral</td>\n",
       "    </tr>\n",
       "    <tr>\n",
       "      <th>2021-07-30 03:24:34</th>\n",
       "      <td>1645.0</td>\n",
       "      <td>25.0</td>\n",
       "      <td>3396.0</td>\n",
       "      <td>RT @gethungrycrypto: 💲Giveaway 1 BNB / 24 hours 💲\\n\\n1. Follow @gethungrycrypto \\n2. Like this tweet\\n3. Retweet\\n4. Tag a friend\\n\\n🦛🦛🦛🦛🦛🦛🦛🦛🦛🦛🦛🦛🦛…</td>\n",
       "      <td>giveaway 1 bnb   24 hours    1. follow    2. like this tweet 3. retweet 4. tag a friend</td>\n",
       "      <td>[giveaway, bnb, hour, follow, like, tweet, retweet, tag, friend]</td>\n",
       "      <td>giveaway bnb hour follow like tweet retweet tag friend</td>\n",
       "      <td>{'neg': 0.0, 'neu': 0.725, 'pos': 0.275, 'compound': 0.6908}</td>\n",
       "      <td>0.6908</td>\n",
       "      <td>positive</td>\n",
       "    </tr>\n",
       "    <tr>\n",
       "      <th>2021-07-30 03:24:31</th>\n",
       "      <td>8198.0</td>\n",
       "      <td>402.0</td>\n",
       "      <td>21.0</td>\n",
       "      <td>RT @XBT002: I will literally never -- and I sincerely mean never -- talk to a normie friend about Bitcoin/DeFi ever again unless they since…</td>\n",
       "      <td>i will literally never    and i sincerely mean never    talk to a normie friend about bitcoin defi ever again unless they since</td>\n",
       "      <td>[literally, sincerely, mean, talk, normie, friend, bitcoin, defi]</td>\n",
       "      <td>literally sincerely mean talk normie friend bitcoin defi</td>\n",
       "      <td>{'neg': 0.099, 'neu': 0.777, 'pos': 0.124, 'compound': 0.1645}</td>\n",
       "      <td>0.1645</td>\n",
       "      <td>positive</td>\n",
       "    </tr>\n",
       "    <tr>\n",
       "      <th>2021-07-30 03:24:30</th>\n",
       "      <td>5882.0</td>\n",
       "      <td>263.0</td>\n",
       "      <td>1.0</td>\n",
       "      <td>RT @AdamSobczak15: @PupDoge7 Its Amazing\\n#crypto #bitcoin #cryptocurrency #blockchain #btc #ethereum #forex #money #trading #bitcoinmining…</td>\n",
       "      <td>its amazing  crypto  bitcoin  cryptocurrency  blockchain  btc  ethereum  forex  money  trading  bitcoinmining</td>\n",
       "      <td>[amaze, crypto, bitcoin, cryptocurrency, blockchain, btc, ethereum, forex, money, trading, bitcoinmining]</td>\n",
       "      <td>amaze crypto bitcoin cryptocurrency blockchain btc ethereum forex money trading bitcoinmining</td>\n",
       "      <td>{'neg': 0.0, 'neu': 0.743, 'pos': 0.257, 'compound': 0.5859}</td>\n",
       "      <td>0.5859</td>\n",
       "      <td>positive</td>\n",
       "    </tr>\n",
       "    <tr>\n",
       "      <th>2021-07-30 03:24:28</th>\n",
       "      <td>27273.0</td>\n",
       "      <td>142.0</td>\n",
       "      <td>642.0</td>\n",
       "      <td>RT @michael_saylor: \"The time has come for more western governments to stop dismissing the crypto revolution...they should be more open to…</td>\n",
       "      <td>the time has come for more western governments to stop dismissing the crypto revolution...they should be more open to</td>\n",
       "      <td>[time, come, western, government, stop, dismiss, crypto, revolution, open]</td>\n",
       "      <td>time come western government stop dismiss crypto revolution open</td>\n",
       "      <td>{'neg': 0.109, 'neu': 0.891, 'pos': 0.0, 'compound': -0.296}</td>\n",
       "      <td>-0.2960</td>\n",
       "      <td>negative</td>\n",
       "    </tr>\n",
       "    <tr>\n",
       "      <th>2021-07-30 03:24:27</th>\n",
       "      <td>6836.0</td>\n",
       "      <td>18767.0</td>\n",
       "      <td>0.0</td>\n",
       "      <td>Thoughts? #bitcoin https://t.co/tY6cciaQjy</td>\n",
       "      <td>thoughts   bitcoin</td>\n",
       "      <td>[thought, bitcoin]</td>\n",
       "      <td>thought bitcoin</td>\n",
       "      <td>{'neg': 0.0, 'neu': 1.0, 'pos': 0.0, 'compound': 0.0}</td>\n",
       "      <td>0.0000</td>\n",
       "      <td>neutral</td>\n",
       "    </tr>\n",
       "    <tr>\n",
       "      <th>2021-07-30 03:24:26</th>\n",
       "      <td>23489.0</td>\n",
       "      <td>20.0</td>\n",
       "      <td>1136.0</td>\n",
       "      <td>RT @RealMister_R: White ppl see Bitcoin go up and start doing the worm</td>\n",
       "      <td>white ppl see bitcoin go up and start doing the worm</td>\n",
       "      <td>[white, ppl, bitcoin, start, worm]</td>\n",
       "      <td>white ppl bitcoin start worm</td>\n",
       "      <td>{'neg': 0.0, 'neu': 1.0, 'pos': 0.0, 'compound': 0.0}</td>\n",
       "      <td>0.0000</td>\n",
       "      <td>neutral</td>\n",
       "    </tr>\n",
       "    <tr>\n",
       "      <th>2021-07-30 03:24:25</th>\n",
       "      <td>3826.0</td>\n",
       "      <td>38.0</td>\n",
       "      <td>2.0</td>\n",
       "      <td>RT @Vince_Prince_: #Bitcoin Hash Rate Increasing Again And Testing This Main Resistance Of November 2020 Low! https://t.co/DJMwTVSkCv</td>\n",
       "      <td>bitcoin hash rate increasing again and testing this main resistance of november 2020 low!</td>\n",
       "      <td>[bitcoin, hash, rate, increase, test, main, resistance, november, low]</td>\n",
       "      <td>bitcoin hash rate increase test main resistance november low</td>\n",
       "      <td>{'neg': 0.155, 'neu': 0.845, 'pos': 0.0, 'compound': -0.3382}</td>\n",
       "      <td>-0.3382</td>\n",
       "      <td>negative</td>\n",
       "    </tr>\n",
       "    <tr>\n",
       "      <th>2021-07-30 03:24:24</th>\n",
       "      <td>13216.0</td>\n",
       "      <td>366.0</td>\n",
       "      <td>3396.0</td>\n",
       "      <td>RT @gethungrycrypto: 💲Giveaway 1 BNB / 24 hours 💲\\n\\n1. Follow @gethungrycrypto \\n2. Like this tweet\\n3. Retweet\\n4. Tag a friend\\n\\n🦛🦛🦛🦛🦛🦛🦛🦛🦛🦛🦛🦛🦛…</td>\n",
       "      <td>giveaway 1 bnb   24 hours    1. follow    2. like this tweet 3. retweet 4. tag a friend</td>\n",
       "      <td>[giveaway, bnb, hour, follow, like, tweet, retweet, tag, friend]</td>\n",
       "      <td>giveaway bnb hour follow like tweet retweet tag friend</td>\n",
       "      <td>{'neg': 0.0, 'neu': 0.725, 'pos': 0.275, 'compound': 0.6908}</td>\n",
       "      <td>0.6908</td>\n",
       "      <td>positive</td>\n",
       "    </tr>\n",
       "    <tr>\n",
       "      <th>2021-07-30 03:24:24</th>\n",
       "      <td>54562.0</td>\n",
       "      <td>505.0</td>\n",
       "      <td>18.0</td>\n",
       "      <td>RT @ViceToken_DeFi: Please join us tomorrow (Fri 30th July @ 6PM EST) for our first AMA live on Telegram.\\n\\nhttps://t.co/NfRZzQxaMl\\n\\nhttps:/…</td>\n",
       "      <td>please join us tomorrow  fri 30th july   6pm est  for our first ama live on telegram.     https</td>\n",
       "      <td>[join, tomorrow, fri, july, est, ama, live, telegram, http]</td>\n",
       "      <td>join tomorrow fri july est ama live telegram http</td>\n",
       "      <td>{'neg': 0.0, 'neu': 0.769, 'pos': 0.231, 'compound': 0.5423}</td>\n",
       "      <td>0.5423</td>\n",
       "      <td>positive</td>\n",
       "    </tr>\n",
       "    <tr>\n",
       "      <th>2021-07-30 03:24:24</th>\n",
       "      <td>97530.0</td>\n",
       "      <td>3092.0</td>\n",
       "      <td>1.0</td>\n",
       "      <td>RT @Norm_Farrell: It's my lucky week. I can avoid being jailed for something by sending bitcoin to someone, somewhere. A stranger promised…</td>\n",
       "      <td>it's my lucky week. i can avoid being jailed for something by sending bitcoin to someone, somewhere. a stranger promised</td>\n",
       "      <td>[lucky, week, avoid, jail, send, bitcoin, someone, somewhere, stranger, promise]</td>\n",
       "      <td>lucky week avoid jail send bitcoin someone somewhere stranger promise</td>\n",
       "      <td>{'neg': 0.202, 'neu': 0.599, 'pos': 0.199, 'compound': -0.0258}</td>\n",
       "      <td>-0.0258</td>\n",
       "      <td>negative</td>\n",
       "    </tr>\n",
       "    <tr>\n",
       "      <th>2021-07-30 03:24:21</th>\n",
       "      <td>23559.0</td>\n",
       "      <td>182.0</td>\n",
       "      <td>169.0</td>\n",
       "      <td>RT @tragic_figure12: White people see bitcoin go up and start doing the worm</td>\n",
       "      <td>white people see bitcoin go up and start doing the worm</td>\n",
       "      <td>[white, people, bitcoin, start, worm]</td>\n",
       "      <td>white people bitcoin start worm</td>\n",
       "      <td>{'neg': 0.0, 'neu': 1.0, 'pos': 0.0, 'compound': 0.0}</td>\n",
       "      <td>0.0000</td>\n",
       "      <td>neutral</td>\n",
       "    </tr>\n",
       "    <tr>\n",
       "      <th>2021-07-30 03:24:20</th>\n",
       "      <td>1176.0</td>\n",
       "      <td>19.0</td>\n",
       "      <td>8060.0</td>\n",
       "      <td>RT @Orhanbirinci61: DeFi Connect $40K crypto-adoption promo!\\n💵 Reward: 213b DFC coins\\n🎁 21300 users will be rewarded\\n🔁 Retweet this tweet\\n✅…</td>\n",
       "      <td>defi connect  40k crypto adoption promo!   reward  213b dfc coins   21300 users will be rewarded   retweet this tweet</td>\n",
       "      <td>[defi, connect, crypto, adoption, promo, reward, dfc, coin, user, reward, retweet, tweet]</td>\n",
       "      <td>defi connect crypto adoption promo reward dfc coin user reward retweet tweet</td>\n",
       "      <td>{'neg': 0.0, 'neu': 0.69, 'pos': 0.31, 'compound': 0.8016}</td>\n",
       "      <td>0.8016</td>\n",
       "      <td>positive</td>\n",
       "    </tr>\n",
       "    <tr>\n",
       "      <th>2021-07-30 03:24:19</th>\n",
       "      <td>15125.0</td>\n",
       "      <td>7138.0</td>\n",
       "      <td>7.0</td>\n",
       "      <td>RT @cryptobuzznews: Wouldn’t surprise me to see #ETHUSDT rip to $3,000 overnight</td>\n",
       "      <td>wouldn t surprise me to see  ethusdt rip to  3,000 overnight</td>\n",
       "      <td>[surprise, ethusdt, rip, overnight]</td>\n",
       "      <td>surprise ethusdt rip overnight</td>\n",
       "      <td>{'neg': 0.0, 'neu': 0.826, 'pos': 0.174, 'compound': 0.2732}</td>\n",
       "      <td>0.2732</td>\n",
       "      <td>positive</td>\n",
       "    </tr>\n",
       "    <tr>\n",
       "      <th>2021-07-30 03:24:16</th>\n",
       "      <td>7833.0</td>\n",
       "      <td>160.0</td>\n",
       "      <td>0.0</td>\n",
       "      <td>@labrahodl10 Im all in. What's left is for ramen noodles. \\n\\n#Bitcoin</td>\n",
       "      <td>im all in. what's left is for ramen noodles.    bitcoin</td>\n",
       "      <td>[left, ramen, noodle, bitcoin]</td>\n",
       "      <td>left ramen noodle bitcoin</td>\n",
       "      <td>{'neg': 0.0, 'neu': 1.0, 'pos': 0.0, 'compound': 0.0}</td>\n",
       "      <td>0.0000</td>\n",
       "      <td>neutral</td>\n",
       "    </tr>\n",
       "    <tr>\n",
       "      <th>2021-07-30 03:24:15</th>\n",
       "      <td>2375.0</td>\n",
       "      <td>525.0</td>\n",
       "      <td>63.0</td>\n",
       "      <td>RT @InputOutputHK: Earlier today on #Cardano360 we shared an update on #AlonzoWhite progress. TLDR #Alonzo rollout on track! More users &amp;amp; i…</td>\n",
       "      <td>earlier today on  cardano360 we shared an update on  alonzowhite progress. tldr  alonzo rollout on track! more users  amp  i</td>\n",
       "      <td>[earlier, today, share, update, alonzowhite, progress, tldr, alonzo, rollout, track, user, amp]</td>\n",
       "      <td>earlier today share update alonzowhite progress tldr alonzo rollout track user amp</td>\n",
       "      <td>{'neg': 0.0, 'neu': 0.766, 'pos': 0.234, 'compound': 0.6696}</td>\n",
       "      <td>0.6696</td>\n",
       "      <td>positive</td>\n",
       "    </tr>\n",
       "  </tbody>\n",
       "</table>\n",
       "</div>"
      ],
      "text/plain": [
       "                     favourites  followers  retweets  \\\n",
       "date                                                   \n",
       "2021-07-30 03:24:47      1956.0      481.0       0.0   \n",
       "2021-07-30 03:24:47      8954.0     3382.0       0.0   \n",
       "2021-07-30 03:24:45      8377.0      281.0     172.0   \n",
       "2021-07-30 03:24:45     42989.0      662.0    5544.0   \n",
       "2021-07-30 03:24:44      2785.0      551.0    3396.0   \n",
       "2021-07-30 03:24:44      3457.0      215.0    5544.0   \n",
       "2021-07-30 03:24:43     54562.0      505.0    3396.0   \n",
       "2021-07-30 03:24:42      3982.0      145.0    3396.0   \n",
       "2021-07-30 03:24:40      1129.0      178.0    2098.0   \n",
       "2021-07-30 03:24:40      3331.0      158.0       0.0   \n",
       "2021-07-30 03:24:39      8028.0     1380.0       0.0   \n",
       "2021-07-30 03:24:38      2703.0      313.0      62.0   \n",
       "2021-07-30 03:24:38     18203.0       92.0     733.0   \n",
       "2021-07-30 03:24:37      2608.0       26.0      37.0   \n",
       "2021-07-30 03:24:35      6278.0       51.0    5544.0   \n",
       "2021-07-30 03:24:34      1645.0       25.0    3396.0   \n",
       "2021-07-30 03:24:31      8198.0      402.0      21.0   \n",
       "2021-07-30 03:24:30      5882.0      263.0       1.0   \n",
       "2021-07-30 03:24:28     27273.0      142.0     642.0   \n",
       "2021-07-30 03:24:27      6836.0    18767.0       0.0   \n",
       "2021-07-30 03:24:26     23489.0       20.0    1136.0   \n",
       "2021-07-30 03:24:25      3826.0       38.0       2.0   \n",
       "2021-07-30 03:24:24     13216.0      366.0    3396.0   \n",
       "2021-07-30 03:24:24     54562.0      505.0      18.0   \n",
       "2021-07-30 03:24:24     97530.0     3092.0       1.0   \n",
       "2021-07-30 03:24:21     23559.0      182.0     169.0   \n",
       "2021-07-30 03:24:20      1176.0       19.0    8060.0   \n",
       "2021-07-30 03:24:19     15125.0     7138.0       7.0   \n",
       "2021-07-30 03:24:16      7833.0      160.0       0.0   \n",
       "2021-07-30 03:24:15      2375.0      525.0      63.0   \n",
       "\n",
       "                                                                                                                                                                                                                            text  \\\n",
       "date                                                                                                                                                                                                                               \n",
       "2021-07-30 03:24:47  Word on the street is, Michael Burry got liquidated during the liquidation cascade on binance leading the price to 48k. He is usually early, but a bit too early.  #michealjburry #burry $btc #btc #Bitcoin   \n",
       "2021-07-30 03:24:47                                                                                                                                                                        Amazon will accept #dogecoin #Bitcoin   \n",
       "2021-07-30 03:24:45                                                                 RT @DocumentingBTC: Greenide Generation has annouced it will close the forty-year-old Lockwood Hills ash landfill in New York to build a ne…   \n",
       "2021-07-30 03:24:45                                                     RT @flurbnb: $200 to one person in 72 hours\\n\\nRetweet &amp; follow me &amp; post proof of my notifs 🔔\\n\\n$FLUR #FLURARMY #FLURMOON #bitcoin   #ethereu…   \n",
       "2021-07-30 03:24:44                                                          RT @gethungrycrypto: 💲Giveaway 1 BNB / 24 hours 💲\\n\\n1. Follow @gethungrycrypto \\n2. Like this tweet\\n3. Retweet\\n4. Tag a friend\\n\\n🦛🦛🦛🦛🦛🦛🦛🦛🦛🦛🦛🦛🦛…   \n",
       "2021-07-30 03:24:44                                                     RT @flurbnb: $200 to one person in 72 hours\\n\\nRetweet &amp; follow me &amp; post proof of my notifs 🔔\\n\\n$FLUR #FLURARMY #FLURMOON #bitcoin   #ethereu…   \n",
       "2021-07-30 03:24:43                                                          RT @gethungrycrypto: 💲Giveaway 1 BNB / 24 hours 💲\\n\\n1. Follow @gethungrycrypto \\n2. Like this tweet\\n3. Retweet\\n4. Tag a friend\\n\\n🦛🦛🦛🦛🦛🦛🦛🦛🦛🦛🦛🦛🦛…   \n",
       "2021-07-30 03:24:42                                                          RT @gethungrycrypto: 💲Giveaway 1 BNB / 24 hours 💲\\n\\n1. Follow @gethungrycrypto \\n2. Like this tweet\\n3. Retweet\\n4. Tag a friend\\n\\n🦛🦛🦛🦛🦛🦛🦛🦛🦛🦛🦛🦛🦛…   \n",
       "2021-07-30 03:24:40                                                                 RT @michael_saylor: #Bitcoin is now held by more than 114 million people, making it the fastest growing, most widely held financial asset i…   \n",
       "2021-07-30 03:24:40                                                     @CoinMarketCap Very strong and best project\\n\\n#CoinMarketCap #Crypto #Cryptocurrency #Bitcoin #Ethereum #Dogecoin #Altcoin #DeFi #SpaceY #SPAY #Airdrop   \n",
       "2021-07-30 03:24:39                                                                                                                                                     #Bitcoin Price Prediction 🔮 $BTC https://t.co/6Veh4fJ1BJ   \n",
       "2021-07-30 03:24:38                                                                                                                 RT @APompliano: They’d find a way to blame bitcoin if this happened. https://t.co/Pjf9u8ISIX   \n",
       "2021-07-30 03:24:38                                                                  RT @BitcoinMagazine: #Bitcoin is a store of value because “unlike fiat currencies, the government can’t come along and print trillions” of…   \n",
       "2021-07-30 03:24:37                                                                                                            RT @youngtilopa: bitcoin hasn't had nine consecutive up days since 2015 👀 https://t.co/a4RaoJXJ6m   \n",
       "2021-07-30 03:24:35                                                     RT @flurbnb: $200 to one person in 72 hours\\n\\nRetweet &amp; follow me &amp; post proof of my notifs 🔔\\n\\n$FLUR #FLURARMY #FLURMOON #bitcoin   #ethereu…   \n",
       "2021-07-30 03:24:34                                                          RT @gethungrycrypto: 💲Giveaway 1 BNB / 24 hours 💲\\n\\n1. Follow @gethungrycrypto \\n2. Like this tweet\\n3. Retweet\\n4. Tag a friend\\n\\n🦛🦛🦛🦛🦛🦛🦛🦛🦛🦛🦛🦛🦛…   \n",
       "2021-07-30 03:24:31                                                                 RT @XBT002: I will literally never -- and I sincerely mean never -- talk to a normie friend about Bitcoin/DeFi ever again unless they since…   \n",
       "2021-07-30 03:24:30                                                                 RT @AdamSobczak15: @PupDoge7 Its Amazing\\n#crypto #bitcoin #cryptocurrency #blockchain #btc #ethereum #forex #money #trading #bitcoinmining…   \n",
       "2021-07-30 03:24:28                                                                  RT @michael_saylor: \"The time has come for more western governments to stop dismissing the crypto revolution...they should be more open to…   \n",
       "2021-07-30 03:24:27                                                                                                                                                                   Thoughts? #bitcoin https://t.co/tY6cciaQjy   \n",
       "2021-07-30 03:24:26                                                                                                                                       RT @RealMister_R: White ppl see Bitcoin go up and start doing the worm   \n",
       "2021-07-30 03:24:25                                                                        RT @Vince_Prince_: #Bitcoin Hash Rate Increasing Again And Testing This Main Resistance Of November 2020 Low! https://t.co/DJMwTVSkCv   \n",
       "2021-07-30 03:24:24                                                          RT @gethungrycrypto: 💲Giveaway 1 BNB / 24 hours 💲\\n\\n1. Follow @gethungrycrypto \\n2. Like this tweet\\n3. Retweet\\n4. Tag a friend\\n\\n🦛🦛🦛🦛🦛🦛🦛🦛🦛🦛🦛🦛🦛…   \n",
       "2021-07-30 03:24:24                                                             RT @ViceToken_DeFi: Please join us tomorrow (Fri 30th July @ 6PM EST) for our first AMA live on Telegram.\\n\\nhttps://t.co/NfRZzQxaMl\\n\\nhttps:/…   \n",
       "2021-07-30 03:24:24                                                                  RT @Norm_Farrell: It's my lucky week. I can avoid being jailed for something by sending bitcoin to someone, somewhere. A stranger promised…   \n",
       "2021-07-30 03:24:21                                                                                                                                 RT @tragic_figure12: White people see bitcoin go up and start doing the worm   \n",
       "2021-07-30 03:24:20                                                             RT @Orhanbirinci61: DeFi Connect $40K crypto-adoption promo!\\n💵 Reward: 213b DFC coins\\n🎁 21300 users will be rewarded\\n🔁 Retweet this tweet\\n✅…   \n",
       "2021-07-30 03:24:19                                                                                                                             RT @cryptobuzznews: Wouldn’t surprise me to see #ETHUSDT rip to $3,000 overnight   \n",
       "2021-07-30 03:24:16                                                                                                                                       @labrahodl10 Im all in. What's left is for ramen noodles. \\n\\n#Bitcoin   \n",
       "2021-07-30 03:24:15                                                             RT @InputOutputHK: Earlier today on #Cardano360 we shared an update on #AlonzoWhite progress. TLDR #Alonzo rollout on track! More users &amp; i…   \n",
       "\n",
       "                                                                                                                                                                                                                    cleaned_text  \\\n",
       "date                                                                                                                                                                                                                               \n",
       "2021-07-30 03:24:47  word on the street is, michael burry got liquidated during the liquidation cascade on binance leading the price to 48k. he is usually early, but a bit too early.   michealjburry  burry  btc  btc  bitcoin   \n",
       "2021-07-30 03:24:47                                                                                                                                                                        amazon will accept  dogecoin  bitcoin   \n",
       "2021-07-30 03:24:45                                                                                     greenide generation has annouced it will close the forty year old lockwood hills ash landfill in new york to build a ne    \n",
       "2021-07-30 03:24:45                                                                       200 to one person in 72 hours  retweet  amp  follow me  amp  post proof of my notifs     flur  flurarmy  flurmoon  bitcoin    ethereu    \n",
       "2021-07-30 03:24:44                                                                                                      giveaway 1 bnb   24 hours    1. follow    2. like this tweet 3. retweet 4. tag a friend                   \n",
       "2021-07-30 03:24:44                                                                       200 to one person in 72 hours  retweet  amp  follow me  amp  post proof of my notifs     flur  flurarmy  flurmoon  bitcoin    ethereu    \n",
       "2021-07-30 03:24:43                                                                                                      giveaway 1 bnb   24 hours    1. follow    2. like this tweet 3. retweet 4. tag a friend                   \n",
       "2021-07-30 03:24:42                                                                                                      giveaway 1 bnb   24 hours    1. follow    2. like this tweet 3. retweet 4. tag a friend                   \n",
       "2021-07-30 03:24:40                                                                                      bitcoin is now held by more than 114 million people, making it the fastest growing, most widely held financial asset i    \n",
       "2021-07-30 03:24:40                                                                      very strong and best project   coinmarketcap  crypto  cryptocurrency  bitcoin  ethereum  dogecoin  altcoin  defi  spacey  spay  airdrop   \n",
       "2021-07-30 03:24:39                                                                                                                                                                            bitcoin price prediction    btc     \n",
       "2021-07-30 03:24:38                                                                                                                                                       they d find a way to blame bitcoin if this happened.     \n",
       "2021-07-30 03:24:38                                                                                        bitcoin is a store of value because  unlike fiat currencies, the government can t come along and print trillions  of    \n",
       "2021-07-30 03:24:37                                                                                                                                                   bitcoin hasn't had nine consecutive up days since 2015       \n",
       "2021-07-30 03:24:35                                                                       200 to one person in 72 hours  retweet  amp  follow me  amp  post proof of my notifs     flur  flurarmy  flurmoon  bitcoin    ethereu    \n",
       "2021-07-30 03:24:34                                                                                                      giveaway 1 bnb   24 hours    1. follow    2. like this tweet 3. retweet 4. tag a friend                   \n",
       "2021-07-30 03:24:31                                                                             i will literally never    and i sincerely mean never    talk to a normie friend about bitcoin defi ever again unless they since    \n",
       "2021-07-30 03:24:30                                                                                               its amazing  crypto  bitcoin  cryptocurrency  blockchain  btc  ethereum  forex  money  trading  bitcoinmining    \n",
       "2021-07-30 03:24:28                                                                                       the time has come for more western governments to stop dismissing the crypto revolution...they should be more open to    \n",
       "2021-07-30 03:24:27                                                                                                                                                                                         thoughts   bitcoin     \n",
       "2021-07-30 03:24:26                                                                                                                                                         white ppl see bitcoin go up and start doing the worm   \n",
       "2021-07-30 03:24:25                                                                                                                  bitcoin hash rate increasing again and testing this main resistance of november 2020 low!     \n",
       "2021-07-30 03:24:24                                                                                                      giveaway 1 bnb   24 hours    1. follow    2. like this tweet 3. retweet 4. tag a friend                   \n",
       "2021-07-30 03:24:24                                                                                                           please join us tomorrow  fri 30th july   6pm est  for our first ama live on telegram.     https      \n",
       "2021-07-30 03:24:24                                                                                    it's my lucky week. i can avoid being jailed for something by sending bitcoin to someone, somewhere. a stranger promised    \n",
       "2021-07-30 03:24:21                                                                                                                                                      white people see bitcoin go up and start doing the worm   \n",
       "2021-07-30 03:24:20                                                                                     defi connect  40k crypto adoption promo!   reward  213b dfc coins   21300 users will be rewarded   retweet this tweet      \n",
       "2021-07-30 03:24:19                                                                                                                                                 wouldn t surprise me to see  ethusdt rip to  3,000 overnight   \n",
       "2021-07-30 03:24:16                                                                                                                                                      im all in. what's left is for ramen noodles.    bitcoin   \n",
       "2021-07-30 03:24:15                                                                                earlier today on  cardano360 we shared an update on  alonzowhite progress. tldr  alonzo rollout on track! more users  amp  i    \n",
       "\n",
       "                                                                                                                                                                              tokens  \\\n",
       "date                                                                                                                                                                                   \n",
       "2021-07-30 03:24:47  [word, street, michael, burry, get, liquidate, liquidation, cascade, binance, lead, price, usually, early, bit, early, michealjburry, burry, btc, btc, bitcoin]   \n",
       "2021-07-30 03:24:47                                                                                                                              [amazon, accept, dogecoin, bitcoin]   \n",
       "2021-07-30 03:24:45                                                              [greenide, generation, annouced, close, year, old, lockwood, hill, ash, landfill, new, york, build]   \n",
       "2021-07-30 03:24:45                                                       [person, hour, retweet, amp, follow, amp, post, proof, notifs, flur, flurarmy, flurmoon, bitcoin, ethereu]   \n",
       "2021-07-30 03:24:44                                                                                                 [giveaway, bnb, hour, follow, like, tweet, retweet, tag, friend]   \n",
       "2021-07-30 03:24:44                                                       [person, hour, retweet, amp, follow, amp, post, proof, notifs, flur, flurarmy, flurmoon, bitcoin, ethereu]   \n",
       "2021-07-30 03:24:43                                                                                                 [giveaway, bnb, hour, follow, like, tweet, retweet, tag, friend]   \n",
       "2021-07-30 03:24:42                                                                                                 [giveaway, bnb, hour, follow, like, tweet, retweet, tag, friend]   \n",
       "2021-07-30 03:24:40                                                                               [bitcoin, held, million, people, make, fast, grow, widely, held, financial, asset]   \n",
       "2021-07-30 03:24:40                                [strong, best, project, coinmarketcap, crypto, cryptocurrency, bitcoin, ethereum, dogecoin, altcoin, defi, spacey, spay, airdrop]   \n",
       "2021-07-30 03:24:39                                                                                                                                [bitcoin, price, prediction, btc]   \n",
       "2021-07-30 03:24:38                                                                                                                                    [way, blame, bitcoin, happen]   \n",
       "2021-07-30 03:24:38                                                                               [bitcoin, store, value, unlike, fiat, currency, government, come, print, trillion]   \n",
       "2021-07-30 03:24:37                                                                                                                                      [bitcoin, consecutive, day]   \n",
       "2021-07-30 03:24:35                                                       [person, hour, retweet, amp, follow, amp, post, proof, notifs, flur, flurarmy, flurmoon, bitcoin, ethereu]   \n",
       "2021-07-30 03:24:34                                                                                                 [giveaway, bnb, hour, follow, like, tweet, retweet, tag, friend]   \n",
       "2021-07-30 03:24:31                                                                                                [literally, sincerely, mean, talk, normie, friend, bitcoin, defi]   \n",
       "2021-07-30 03:24:30                                                        [amaze, crypto, bitcoin, cryptocurrency, blockchain, btc, ethereum, forex, money, trading, bitcoinmining]   \n",
       "2021-07-30 03:24:28                                                                                       [time, come, western, government, stop, dismiss, crypto, revolution, open]   \n",
       "2021-07-30 03:24:27                                                                                                                                               [thought, bitcoin]   \n",
       "2021-07-30 03:24:26                                                                                                                               [white, ppl, bitcoin, start, worm]   \n",
       "2021-07-30 03:24:25                                                                                           [bitcoin, hash, rate, increase, test, main, resistance, november, low]   \n",
       "2021-07-30 03:24:24                                                                                                 [giveaway, bnb, hour, follow, like, tweet, retweet, tag, friend]   \n",
       "2021-07-30 03:24:24                                                                                                      [join, tomorrow, fri, july, est, ama, live, telegram, http]   \n",
       "2021-07-30 03:24:24                                                                                 [lucky, week, avoid, jail, send, bitcoin, someone, somewhere, stranger, promise]   \n",
       "2021-07-30 03:24:21                                                                                                                            [white, people, bitcoin, start, worm]   \n",
       "2021-07-30 03:24:20                                                                        [defi, connect, crypto, adoption, promo, reward, dfc, coin, user, reward, retweet, tweet]   \n",
       "2021-07-30 03:24:19                                                                                                                              [surprise, ethusdt, rip, overnight]   \n",
       "2021-07-30 03:24:16                                                                                                                                   [left, ramen, noodle, bitcoin]   \n",
       "2021-07-30 03:24:15                                                                  [earlier, today, share, update, alonzowhite, progress, tldr, alonzo, rollout, track, user, amp]   \n",
       "\n",
       "                                                                                                                                                    final_clean  \\\n",
       "date                                                                                                                                                              \n",
       "2021-07-30 03:24:47  word street michael burry get liquidate liquidation cascade binance lead price usually early bit early michealjburry burry btc btc bitcoin   \n",
       "2021-07-30 03:24:47                                                                                                              amazon accept dogecoin bitcoin   \n",
       "2021-07-30 03:24:45                                                       greenide generation annouced close year old lockwood hill ash landfill new york build   \n",
       "2021-07-30 03:24:45                                                 person hour retweet amp follow amp post proof notifs flur flurarmy flurmoon bitcoin ethereu   \n",
       "2021-07-30 03:24:44                                                                                      giveaway bnb hour follow like tweet retweet tag friend   \n",
       "2021-07-30 03:24:44                                                 person hour retweet amp follow amp post proof notifs flur flurarmy flurmoon bitcoin ethereu   \n",
       "2021-07-30 03:24:43                                                                                      giveaway bnb hour follow like tweet retweet tag friend   \n",
       "2021-07-30 03:24:42                                                                                      giveaway bnb hour follow like tweet retweet tag friend   \n",
       "2021-07-30 03:24:40                                                                      bitcoin held million people make fast grow widely held financial asset   \n",
       "2021-07-30 03:24:40                          strong best project coinmarketcap crypto cryptocurrency bitcoin ethereum dogecoin altcoin defi spacey spay airdrop   \n",
       "2021-07-30 03:24:39                                                                                                                bitcoin price prediction btc   \n",
       "2021-07-30 03:24:38                                                                                                                    way blame bitcoin happen   \n",
       "2021-07-30 03:24:38                                                                     bitcoin store value unlike fiat currency government come print trillion   \n",
       "2021-07-30 03:24:37                                                                                                                     bitcoin consecutive day   \n",
       "2021-07-30 03:24:35                                                 person hour retweet amp follow amp post proof notifs flur flurarmy flurmoon bitcoin ethereu   \n",
       "2021-07-30 03:24:34                                                                                      giveaway bnb hour follow like tweet retweet tag friend   \n",
       "2021-07-30 03:24:31                                                                                    literally sincerely mean talk normie friend bitcoin defi   \n",
       "2021-07-30 03:24:30                                               amaze crypto bitcoin cryptocurrency blockchain btc ethereum forex money trading bitcoinmining   \n",
       "2021-07-30 03:24:28                                                                            time come western government stop dismiss crypto revolution open   \n",
       "2021-07-30 03:24:27                                                                                                                             thought bitcoin   \n",
       "2021-07-30 03:24:26                                                                                                                white ppl bitcoin start worm   \n",
       "2021-07-30 03:24:25                                                                                bitcoin hash rate increase test main resistance november low   \n",
       "2021-07-30 03:24:24                                                                                      giveaway bnb hour follow like tweet retweet tag friend   \n",
       "2021-07-30 03:24:24                                                                                           join tomorrow fri july est ama live telegram http   \n",
       "2021-07-30 03:24:24                                                                       lucky week avoid jail send bitcoin someone somewhere stranger promise   \n",
       "2021-07-30 03:24:21                                                                                                             white people bitcoin start worm   \n",
       "2021-07-30 03:24:20                                                                defi connect crypto adoption promo reward dfc coin user reward retweet tweet   \n",
       "2021-07-30 03:24:19                                                                                                              surprise ethusdt rip overnight   \n",
       "2021-07-30 03:24:16                                                                                                                   left ramen noodle bitcoin   \n",
       "2021-07-30 03:24:15                                                          earlier today share update alonzowhite progress tldr alonzo rollout track user amp   \n",
       "\n",
       "                                                                  vader_clean_scores  \\\n",
       "date                                                                                   \n",
       "2021-07-30 03:24:47            {'neg': 0.0, 'neu': 1.0, 'pos': 0.0, 'compound': 0.0}   \n",
       "2021-07-30 03:24:47     {'neg': 0.0, 'neu': 0.411, 'pos': 0.589, 'compound': 0.5106}   \n",
       "2021-07-30 03:24:45            {'neg': 0.0, 'neu': 1.0, 'pos': 0.0, 'compound': 0.0}   \n",
       "2021-07-30 03:24:45            {'neg': 0.0, 'neu': 1.0, 'pos': 0.0, 'compound': 0.0}   \n",
       "2021-07-30 03:24:44     {'neg': 0.0, 'neu': 0.725, 'pos': 0.275, 'compound': 0.6908}   \n",
       "2021-07-30 03:24:44            {'neg': 0.0, 'neu': 1.0, 'pos': 0.0, 'compound': 0.0}   \n",
       "2021-07-30 03:24:43     {'neg': 0.0, 'neu': 0.725, 'pos': 0.275, 'compound': 0.6908}   \n",
       "2021-07-30 03:24:42     {'neg': 0.0, 'neu': 0.725, 'pos': 0.275, 'compound': 0.6908}   \n",
       "2021-07-30 03:24:40     {'neg': 0.0, 'neu': 0.819, 'pos': 0.181, 'compound': 0.4939}   \n",
       "2021-07-30 03:24:40     {'neg': 0.0, 'neu': 0.635, 'pos': 0.365, 'compound': 0.8425}   \n",
       "2021-07-30 03:24:39            {'neg': 0.0, 'neu': 1.0, 'pos': 0.0, 'compound': 0.0}   \n",
       "2021-07-30 03:24:38      {'neg': 0.194, 'neu': 0.806, 'pos': 0.0, 'compound': -0.34}   \n",
       "2021-07-30 03:24:38       {'neg': 0.0, 'neu': 0.888, 'pos': 0.112, 'compound': 0.34}   \n",
       "2021-07-30 03:24:37            {'neg': 0.0, 'neu': 1.0, 'pos': 0.0, 'compound': 0.0}   \n",
       "2021-07-30 03:24:35            {'neg': 0.0, 'neu': 1.0, 'pos': 0.0, 'compound': 0.0}   \n",
       "2021-07-30 03:24:34     {'neg': 0.0, 'neu': 0.725, 'pos': 0.275, 'compound': 0.6908}   \n",
       "2021-07-30 03:24:31   {'neg': 0.099, 'neu': 0.777, 'pos': 0.124, 'compound': 0.1645}   \n",
       "2021-07-30 03:24:30     {'neg': 0.0, 'neu': 0.743, 'pos': 0.257, 'compound': 0.5859}   \n",
       "2021-07-30 03:24:28     {'neg': 0.109, 'neu': 0.891, 'pos': 0.0, 'compound': -0.296}   \n",
       "2021-07-30 03:24:27            {'neg': 0.0, 'neu': 1.0, 'pos': 0.0, 'compound': 0.0}   \n",
       "2021-07-30 03:24:26            {'neg': 0.0, 'neu': 1.0, 'pos': 0.0, 'compound': 0.0}   \n",
       "2021-07-30 03:24:25    {'neg': 0.155, 'neu': 0.845, 'pos': 0.0, 'compound': -0.3382}   \n",
       "2021-07-30 03:24:24     {'neg': 0.0, 'neu': 0.725, 'pos': 0.275, 'compound': 0.6908}   \n",
       "2021-07-30 03:24:24     {'neg': 0.0, 'neu': 0.769, 'pos': 0.231, 'compound': 0.5423}   \n",
       "2021-07-30 03:24:24  {'neg': 0.202, 'neu': 0.599, 'pos': 0.199, 'compound': -0.0258}   \n",
       "2021-07-30 03:24:21            {'neg': 0.0, 'neu': 1.0, 'pos': 0.0, 'compound': 0.0}   \n",
       "2021-07-30 03:24:20       {'neg': 0.0, 'neu': 0.69, 'pos': 0.31, 'compound': 0.8016}   \n",
       "2021-07-30 03:24:19     {'neg': 0.0, 'neu': 0.826, 'pos': 0.174, 'compound': 0.2732}   \n",
       "2021-07-30 03:24:16            {'neg': 0.0, 'neu': 1.0, 'pos': 0.0, 'compound': 0.0}   \n",
       "2021-07-30 03:24:15     {'neg': 0.0, 'neu': 0.766, 'pos': 0.234, 'compound': 0.6696}   \n",
       "\n",
       "                     vader_clean_polarity vader_clean_sentiment  \n",
       "date                                                             \n",
       "2021-07-30 03:24:47                0.0000               neutral  \n",
       "2021-07-30 03:24:47                0.5106              positive  \n",
       "2021-07-30 03:24:45                0.0000               neutral  \n",
       "2021-07-30 03:24:45                0.0000               neutral  \n",
       "2021-07-30 03:24:44                0.6908              positive  \n",
       "2021-07-30 03:24:44                0.0000               neutral  \n",
       "2021-07-30 03:24:43                0.6908              positive  \n",
       "2021-07-30 03:24:42                0.6908              positive  \n",
       "2021-07-30 03:24:40                0.4939              positive  \n",
       "2021-07-30 03:24:40                0.8425              positive  \n",
       "2021-07-30 03:24:39                0.0000               neutral  \n",
       "2021-07-30 03:24:38               -0.3400              negative  \n",
       "2021-07-30 03:24:38                0.3400              positive  \n",
       "2021-07-30 03:24:37                0.0000               neutral  \n",
       "2021-07-30 03:24:35                0.0000               neutral  \n",
       "2021-07-30 03:24:34                0.6908              positive  \n",
       "2021-07-30 03:24:31                0.1645              positive  \n",
       "2021-07-30 03:24:30                0.5859              positive  \n",
       "2021-07-30 03:24:28               -0.2960              negative  \n",
       "2021-07-30 03:24:27                0.0000               neutral  \n",
       "2021-07-30 03:24:26                0.0000               neutral  \n",
       "2021-07-30 03:24:25               -0.3382              negative  \n",
       "2021-07-30 03:24:24                0.6908              positive  \n",
       "2021-07-30 03:24:24                0.5423              positive  \n",
       "2021-07-30 03:24:24               -0.0258              negative  \n",
       "2021-07-30 03:24:21                0.0000               neutral  \n",
       "2021-07-30 03:24:20                0.8016              positive  \n",
       "2021-07-30 03:24:19                0.2732              positive  \n",
       "2021-07-30 03:24:16                0.0000               neutral  \n",
       "2021-07-30 03:24:15                0.6696              positive  "
      ]
     },
     "execution_count": 21,
     "metadata": {},
     "output_type": "execute_result"
    }
   ],
   "source": [
    "# Initialize analyzer\n",
    "sia = SentimentIntensityAnalyzer()\n",
    "\n",
    "# Sentiment labels function \n",
    "def sentiment_labels(df, feature, value): \n",
    "    df.loc[df[value] > 0,feature] = 'positive'\n",
    "    df.loc[df[value] == 0,feature] = 'neutral'\n",
    "    df.loc[df[value] < 0,feature] = 'negative'\n",
    "    \n",
    "# Vader sentiment analysis\n",
    "\n",
    "def vader_sentiment(df):\n",
    "    \n",
    "    target_col='cleaned_text'\n",
    "    prefix = 'vader_clean_'\n",
    "        \n",
    "    scores_col=prefix+'scores'\n",
    "    compound_col = prefix+'polarity'\n",
    "    sentiment = prefix+'sentiment'\n",
    "    \n",
    "    df[scores_col] = df[target_col].apply(lambda x:sia.polarity_scores(x))\n",
    "    df[compound_col] = df[scores_col].apply(lambda d: d['compound'])\n",
    "    sentiment_labels(df, sentiment, compound_col)\n",
    "    \n",
    "#Execute vader function\n",
    "start = time.time()\n",
    "vader_sentiment(crypto_data)\n",
    "stop = time.time()\n",
    "\n",
    "print(f'Vader analysis took: {round((stop-start)/60, 3)}minutes')\n",
    "\n",
    "crypto_data.head(30)"
   ]
  },
  {
   "cell_type": "markdown",
   "id": "09632cb0",
   "metadata": {},
   "source": [
    "## Analysis"
   ]
  },
  {
   "cell_type": "code",
   "execution_count": 22,
   "id": "c271dc0f",
   "metadata": {},
   "outputs": [
    {
     "data": {
      "text/plain": [
       "positive    105\n",
       "neutral      72\n",
       "negative     15\n",
       "Name: vader_clean_sentiment, dtype: int64"
      ]
     },
     "execution_count": 22,
     "metadata": {},
     "output_type": "execute_result"
    }
   ],
   "source": [
    "# View sentiment totals\n",
    "crypto_data['vader_clean_sentiment'].value_counts()"
   ]
  },
  {
   "cell_type": "code",
   "execution_count": 23,
   "id": "2793a177",
   "metadata": {},
   "outputs": [
    {
     "name": "stdout",
     "output_type": "stream",
     "text": [
      "Positive score average for vader_clean_polarity = 0.54\n",
      "Neutral score average for vader_clean_polarity = 0.0\n",
      "Negative score average for vader_clean_polarity = -0.37\n",
      "Overall crypto sentiment score is = 0.2667\n"
     ]
    }
   ],
   "source": [
    "# Function for determining avg sentiment for each score in the model and overall average sentiment\n",
    "def pos_neg_neutral_avg(df):\n",
    "    \n",
    "    positive = []\n",
    "    neutral = []\n",
    "    negative = []\n",
    "    \n",
    "    for values in df:\n",
    "        if values > 0:\n",
    "            positive.append(values)\n",
    "        \n",
    "        elif values < 0:\n",
    "            negative.append(values)\n",
    "        \n",
    "        else:\n",
    "            neutral.append(values)\n",
    "    \n",
    "    print(f'Positive score average for {df.name} = {round(np.mean(positive), 2)}')\n",
    "    print(f'Neutral score average for {df.name} = {round(np.mean(neutral), 2)}')\n",
    "    print(f'Negative score average for {df.name} = {round(np.mean(negative), 2)}')\n",
    "    \n",
    "    print(f'Overall crypto sentiment score is = {round(np.mean(df), 4)}')\n",
    "    \n",
    "# Average scores for each sentiment category, and overall sentiment score\n",
    "vader_values = crypto_data.loc[:, 'vader_clean_polarity']\n",
    "pos_neg_neutral_avg(vader_values)"
   ]
  },
  {
   "cell_type": "code",
   "execution_count": 24,
   "id": "f1679a71",
   "metadata": {},
   "outputs": [
    {
     "data": {
      "text/html": [
       "<div>\n",
       "<style scoped>\n",
       "    .dataframe tbody tr th:only-of-type {\n",
       "        vertical-align: middle;\n",
       "    }\n",
       "\n",
       "    .dataframe tbody tr th {\n",
       "        vertical-align: top;\n",
       "    }\n",
       "\n",
       "    .dataframe thead th {\n",
       "        text-align: right;\n",
       "    }\n",
       "</style>\n",
       "<table border=\"1\" class=\"dataframe\">\n",
       "  <thead>\n",
       "    <tr style=\"text-align: right;\">\n",
       "      <th></th>\n",
       "      <th>Sentiment</th>\n",
       "      <th>Average Polarity</th>\n",
       "    </tr>\n",
       "  </thead>\n",
       "  <tbody>\n",
       "    <tr>\n",
       "      <th>0</th>\n",
       "      <td>positive</td>\n",
       "      <td>0.54</td>\n",
       "    </tr>\n",
       "    <tr>\n",
       "      <th>1</th>\n",
       "      <td>neutral</td>\n",
       "      <td>0.00</td>\n",
       "    </tr>\n",
       "    <tr>\n",
       "      <th>2</th>\n",
       "      <td>negative</td>\n",
       "      <td>-0.37</td>\n",
       "    </tr>\n",
       "  </tbody>\n",
       "</table>\n",
       "</div>"
      ],
      "text/plain": [
       "  Sentiment  Average Polarity\n",
       "0  positive              0.54\n",
       "1   neutral              0.00\n",
       "2  negative             -0.37"
      ]
     },
     "execution_count": 24,
     "metadata": {},
     "output_type": "execute_result"
    }
   ],
   "source": [
    "# Function for creating a df with positive/negative/neutral counts\n",
    "def pos_neg_neutral(df):\n",
    "    \n",
    "    positive = []\n",
    "    neutral = []\n",
    "    negative = []\n",
    "    \n",
    "    for values in df:\n",
    "        if values > 0:\n",
    "            positive.append(values)\n",
    "        \n",
    "        elif values < 0:\n",
    "            negative.append(values)\n",
    "        \n",
    "        else:\n",
    "            neutral.append(values)\n",
    "            \n",
    "    positive_score = round(np.mean(positive), 2)\n",
    "    neutral_score = round(np.mean(neutral), 2)\n",
    "    negative_score = round(np.mean(negative), 2)\n",
    "    \n",
    "    scores = positive_score, neutral_score, negative_score\n",
    "    scores_df = pd.DataFrame(scores)\n",
    "    return scores_df\n",
    "\n",
    "#Execute Function\n",
    "scores_df = pos_neg_neutral(vader_values)\n",
    "\n",
    "#Reformat df to fit requirements for merging/implementing into a graph\n",
    "scores_df = scores_df.rename(index={0: 'positive', 1: 'neutral', 2: 'negative'}).reset_index()\n",
    "scores_df = scores_df.rename(columns={'index': 'Sentiment', 0: 'Average Polarity'})\n",
    "scores_df"
   ]
  },
  {
   "cell_type": "code",
   "execution_count": 25,
   "id": "a49e5063",
   "metadata": {},
   "outputs": [
    {
     "data": {
      "text/html": [
       "<div>\n",
       "<style scoped>\n",
       "    .dataframe tbody tr th:only-of-type {\n",
       "        vertical-align: middle;\n",
       "    }\n",
       "\n",
       "    .dataframe tbody tr th {\n",
       "        vertical-align: top;\n",
       "    }\n",
       "\n",
       "    .dataframe thead th {\n",
       "        text-align: right;\n",
       "    }\n",
       "</style>\n",
       "<table border=\"1\" class=\"dataframe\">\n",
       "  <thead>\n",
       "    <tr style=\"text-align: right;\">\n",
       "      <th></th>\n",
       "      <th>Sentiment</th>\n",
       "      <th>Number of Tweets</th>\n",
       "      <th>Average Polarity</th>\n",
       "    </tr>\n",
       "  </thead>\n",
       "  <tbody>\n",
       "    <tr>\n",
       "      <th>0</th>\n",
       "      <td>positive</td>\n",
       "      <td>105</td>\n",
       "      <td>0.54</td>\n",
       "    </tr>\n",
       "    <tr>\n",
       "      <th>1</th>\n",
       "      <td>neutral</td>\n",
       "      <td>72</td>\n",
       "      <td>0.00</td>\n",
       "    </tr>\n",
       "    <tr>\n",
       "      <th>2</th>\n",
       "      <td>negative</td>\n",
       "      <td>15</td>\n",
       "      <td>-0.37</td>\n",
       "    </tr>\n",
       "  </tbody>\n",
       "</table>\n",
       "</div>"
      ],
      "text/plain": [
       "  Sentiment  Number of Tweets  Average Polarity\n",
       "0  positive               105              0.54\n",
       "1   neutral                72              0.00\n",
       "2  negative                15             -0.37"
      ]
     },
     "execution_count": 25,
     "metadata": {},
     "output_type": "execute_result"
    }
   ],
   "source": [
    "# Create # of Tweets Df and reformat to prepare for merge\n",
    "vader_values_plot = pd.DataFrame(crypto_data['vader_clean_sentiment'].value_counts()).reset_index()\n",
    "vader_values_plot = vader_values_plot.rename(columns={'index': 'Sentiment', 'vader_clean_sentiment': 'Number of Tweets'})\n",
    "\n",
    "# Merge Dataframes\n",
    "sentiment_df = pd.merge(vader_values_plot, scores_df, on=['Sentiment', 'Sentiment'], how='left')\n",
    "sentiment_df"
   ]
  },
  {
   "cell_type": "code",
   "execution_count": 26,
   "id": "a5fad952",
   "metadata": {},
   "outputs": [
    {
     "data": {
      "application/vnd.plotly.v1+json": {
       "config": {
        "plotlyServerURL": "https://plot.ly"
       },
       "data": [
        {
         "alignmentgroup": "True",
         "customdata": [
          [
           0.54
          ],
          [
           0
          ],
          [
           -0.37
          ]
         ],
         "hovertemplate": "Sentiment=%{x}<br>Number of Tweets=%{y}<br>Average Polarity=%{marker.color}<extra></extra>",
         "legendgroup": "",
         "marker": {
          "color": [
           0.54,
           0,
           -0.37
          ],
          "coloraxis": "coloraxis"
         },
         "name": "",
         "offsetgroup": "",
         "orientation": "v",
         "showlegend": false,
         "textposition": "auto",
         "type": "bar",
         "x": [
          "positive",
          "neutral",
          "negative"
         ],
         "xaxis": "x",
         "y": [
          105,
          72,
          15
         ],
         "yaxis": "y"
        }
       ],
       "layout": {
        "barmode": "relative",
        "coloraxis": {
         "colorbar": {
          "title": {
           "text": "Average Polarity"
          }
         },
         "colorscale": [
          [
           0,
           "#0d0887"
          ],
          [
           0.1111111111111111,
           "#46039f"
          ],
          [
           0.2222222222222222,
           "#7201a8"
          ],
          [
           0.3333333333333333,
           "#9c179e"
          ],
          [
           0.4444444444444444,
           "#bd3786"
          ],
          [
           0.5555555555555556,
           "#d8576b"
          ],
          [
           0.6666666666666666,
           "#ed7953"
          ],
          [
           0.7777777777777778,
           "#fb9f3a"
          ],
          [
           0.8888888888888888,
           "#fdca26"
          ],
          [
           1,
           "#f0f921"
          ]
         ]
        },
        "legend": {
         "tracegroupgap": 0
        },
        "template": {
         "data": {
          "bar": [
           {
            "error_x": {
             "color": "#2a3f5f"
            },
            "error_y": {
             "color": "#2a3f5f"
            },
            "marker": {
             "line": {
              "color": "#E5ECF6",
              "width": 0.5
             }
            },
            "type": "bar"
           }
          ],
          "barpolar": [
           {
            "marker": {
             "line": {
              "color": "#E5ECF6",
              "width": 0.5
             }
            },
            "type": "barpolar"
           }
          ],
          "carpet": [
           {
            "aaxis": {
             "endlinecolor": "#2a3f5f",
             "gridcolor": "white",
             "linecolor": "white",
             "minorgridcolor": "white",
             "startlinecolor": "#2a3f5f"
            },
            "baxis": {
             "endlinecolor": "#2a3f5f",
             "gridcolor": "white",
             "linecolor": "white",
             "minorgridcolor": "white",
             "startlinecolor": "#2a3f5f"
            },
            "type": "carpet"
           }
          ],
          "choropleth": [
           {
            "colorbar": {
             "outlinewidth": 0,
             "ticks": ""
            },
            "type": "choropleth"
           }
          ],
          "contour": [
           {
            "colorbar": {
             "outlinewidth": 0,
             "ticks": ""
            },
            "colorscale": [
             [
              0,
              "#0d0887"
             ],
             [
              0.1111111111111111,
              "#46039f"
             ],
             [
              0.2222222222222222,
              "#7201a8"
             ],
             [
              0.3333333333333333,
              "#9c179e"
             ],
             [
              0.4444444444444444,
              "#bd3786"
             ],
             [
              0.5555555555555556,
              "#d8576b"
             ],
             [
              0.6666666666666666,
              "#ed7953"
             ],
             [
              0.7777777777777778,
              "#fb9f3a"
             ],
             [
              0.8888888888888888,
              "#fdca26"
             ],
             [
              1,
              "#f0f921"
             ]
            ],
            "type": "contour"
           }
          ],
          "contourcarpet": [
           {
            "colorbar": {
             "outlinewidth": 0,
             "ticks": ""
            },
            "type": "contourcarpet"
           }
          ],
          "heatmap": [
           {
            "colorbar": {
             "outlinewidth": 0,
             "ticks": ""
            },
            "colorscale": [
             [
              0,
              "#0d0887"
             ],
             [
              0.1111111111111111,
              "#46039f"
             ],
             [
              0.2222222222222222,
              "#7201a8"
             ],
             [
              0.3333333333333333,
              "#9c179e"
             ],
             [
              0.4444444444444444,
              "#bd3786"
             ],
             [
              0.5555555555555556,
              "#d8576b"
             ],
             [
              0.6666666666666666,
              "#ed7953"
             ],
             [
              0.7777777777777778,
              "#fb9f3a"
             ],
             [
              0.8888888888888888,
              "#fdca26"
             ],
             [
              1,
              "#f0f921"
             ]
            ],
            "type": "heatmap"
           }
          ],
          "heatmapgl": [
           {
            "colorbar": {
             "outlinewidth": 0,
             "ticks": ""
            },
            "colorscale": [
             [
              0,
              "#0d0887"
             ],
             [
              0.1111111111111111,
              "#46039f"
             ],
             [
              0.2222222222222222,
              "#7201a8"
             ],
             [
              0.3333333333333333,
              "#9c179e"
             ],
             [
              0.4444444444444444,
              "#bd3786"
             ],
             [
              0.5555555555555556,
              "#d8576b"
             ],
             [
              0.6666666666666666,
              "#ed7953"
             ],
             [
              0.7777777777777778,
              "#fb9f3a"
             ],
             [
              0.8888888888888888,
              "#fdca26"
             ],
             [
              1,
              "#f0f921"
             ]
            ],
            "type": "heatmapgl"
           }
          ],
          "histogram": [
           {
            "marker": {
             "colorbar": {
              "outlinewidth": 0,
              "ticks": ""
             }
            },
            "type": "histogram"
           }
          ],
          "histogram2d": [
           {
            "colorbar": {
             "outlinewidth": 0,
             "ticks": ""
            },
            "colorscale": [
             [
              0,
              "#0d0887"
             ],
             [
              0.1111111111111111,
              "#46039f"
             ],
             [
              0.2222222222222222,
              "#7201a8"
             ],
             [
              0.3333333333333333,
              "#9c179e"
             ],
             [
              0.4444444444444444,
              "#bd3786"
             ],
             [
              0.5555555555555556,
              "#d8576b"
             ],
             [
              0.6666666666666666,
              "#ed7953"
             ],
             [
              0.7777777777777778,
              "#fb9f3a"
             ],
             [
              0.8888888888888888,
              "#fdca26"
             ],
             [
              1,
              "#f0f921"
             ]
            ],
            "type": "histogram2d"
           }
          ],
          "histogram2dcontour": [
           {
            "colorbar": {
             "outlinewidth": 0,
             "ticks": ""
            },
            "colorscale": [
             [
              0,
              "#0d0887"
             ],
             [
              0.1111111111111111,
              "#46039f"
             ],
             [
              0.2222222222222222,
              "#7201a8"
             ],
             [
              0.3333333333333333,
              "#9c179e"
             ],
             [
              0.4444444444444444,
              "#bd3786"
             ],
             [
              0.5555555555555556,
              "#d8576b"
             ],
             [
              0.6666666666666666,
              "#ed7953"
             ],
             [
              0.7777777777777778,
              "#fb9f3a"
             ],
             [
              0.8888888888888888,
              "#fdca26"
             ],
             [
              1,
              "#f0f921"
             ]
            ],
            "type": "histogram2dcontour"
           }
          ],
          "mesh3d": [
           {
            "colorbar": {
             "outlinewidth": 0,
             "ticks": ""
            },
            "type": "mesh3d"
           }
          ],
          "parcoords": [
           {
            "line": {
             "colorbar": {
              "outlinewidth": 0,
              "ticks": ""
             }
            },
            "type": "parcoords"
           }
          ],
          "pie": [
           {
            "automargin": true,
            "type": "pie"
           }
          ],
          "scatter": [
           {
            "marker": {
             "colorbar": {
              "outlinewidth": 0,
              "ticks": ""
             }
            },
            "type": "scatter"
           }
          ],
          "scatter3d": [
           {
            "line": {
             "colorbar": {
              "outlinewidth": 0,
              "ticks": ""
             }
            },
            "marker": {
             "colorbar": {
              "outlinewidth": 0,
              "ticks": ""
             }
            },
            "type": "scatter3d"
           }
          ],
          "scattercarpet": [
           {
            "marker": {
             "colorbar": {
              "outlinewidth": 0,
              "ticks": ""
             }
            },
            "type": "scattercarpet"
           }
          ],
          "scattergeo": [
           {
            "marker": {
             "colorbar": {
              "outlinewidth": 0,
              "ticks": ""
             }
            },
            "type": "scattergeo"
           }
          ],
          "scattergl": [
           {
            "marker": {
             "colorbar": {
              "outlinewidth": 0,
              "ticks": ""
             }
            },
            "type": "scattergl"
           }
          ],
          "scattermapbox": [
           {
            "marker": {
             "colorbar": {
              "outlinewidth": 0,
              "ticks": ""
             }
            },
            "type": "scattermapbox"
           }
          ],
          "scatterpolar": [
           {
            "marker": {
             "colorbar": {
              "outlinewidth": 0,
              "ticks": ""
             }
            },
            "type": "scatterpolar"
           }
          ],
          "scatterpolargl": [
           {
            "marker": {
             "colorbar": {
              "outlinewidth": 0,
              "ticks": ""
             }
            },
            "type": "scatterpolargl"
           }
          ],
          "scatterternary": [
           {
            "marker": {
             "colorbar": {
              "outlinewidth": 0,
              "ticks": ""
             }
            },
            "type": "scatterternary"
           }
          ],
          "surface": [
           {
            "colorbar": {
             "outlinewidth": 0,
             "ticks": ""
            },
            "colorscale": [
             [
              0,
              "#0d0887"
             ],
             [
              0.1111111111111111,
              "#46039f"
             ],
             [
              0.2222222222222222,
              "#7201a8"
             ],
             [
              0.3333333333333333,
              "#9c179e"
             ],
             [
              0.4444444444444444,
              "#bd3786"
             ],
             [
              0.5555555555555556,
              "#d8576b"
             ],
             [
              0.6666666666666666,
              "#ed7953"
             ],
             [
              0.7777777777777778,
              "#fb9f3a"
             ],
             [
              0.8888888888888888,
              "#fdca26"
             ],
             [
              1,
              "#f0f921"
             ]
            ],
            "type": "surface"
           }
          ],
          "table": [
           {
            "cells": {
             "fill": {
              "color": "#EBF0F8"
             },
             "line": {
              "color": "white"
             }
            },
            "header": {
             "fill": {
              "color": "#C8D4E3"
             },
             "line": {
              "color": "white"
             }
            },
            "type": "table"
           }
          ]
         },
         "layout": {
          "annotationdefaults": {
           "arrowcolor": "#2a3f5f",
           "arrowhead": 0,
           "arrowwidth": 1
          },
          "autotypenumbers": "strict",
          "coloraxis": {
           "colorbar": {
            "outlinewidth": 0,
            "ticks": ""
           }
          },
          "colorscale": {
           "diverging": [
            [
             0,
             "#8e0152"
            ],
            [
             0.1,
             "#c51b7d"
            ],
            [
             0.2,
             "#de77ae"
            ],
            [
             0.3,
             "#f1b6da"
            ],
            [
             0.4,
             "#fde0ef"
            ],
            [
             0.5,
             "#f7f7f7"
            ],
            [
             0.6,
             "#e6f5d0"
            ],
            [
             0.7,
             "#b8e186"
            ],
            [
             0.8,
             "#7fbc41"
            ],
            [
             0.9,
             "#4d9221"
            ],
            [
             1,
             "#276419"
            ]
           ],
           "sequential": [
            [
             0,
             "#0d0887"
            ],
            [
             0.1111111111111111,
             "#46039f"
            ],
            [
             0.2222222222222222,
             "#7201a8"
            ],
            [
             0.3333333333333333,
             "#9c179e"
            ],
            [
             0.4444444444444444,
             "#bd3786"
            ],
            [
             0.5555555555555556,
             "#d8576b"
            ],
            [
             0.6666666666666666,
             "#ed7953"
            ],
            [
             0.7777777777777778,
             "#fb9f3a"
            ],
            [
             0.8888888888888888,
             "#fdca26"
            ],
            [
             1,
             "#f0f921"
            ]
           ],
           "sequentialminus": [
            [
             0,
             "#0d0887"
            ],
            [
             0.1111111111111111,
             "#46039f"
            ],
            [
             0.2222222222222222,
             "#7201a8"
            ],
            [
             0.3333333333333333,
             "#9c179e"
            ],
            [
             0.4444444444444444,
             "#bd3786"
            ],
            [
             0.5555555555555556,
             "#d8576b"
            ],
            [
             0.6666666666666666,
             "#ed7953"
            ],
            [
             0.7777777777777778,
             "#fb9f3a"
            ],
            [
             0.8888888888888888,
             "#fdca26"
            ],
            [
             1,
             "#f0f921"
            ]
           ]
          },
          "colorway": [
           "#636efa",
           "#EF553B",
           "#00cc96",
           "#ab63fa",
           "#FFA15A",
           "#19d3f3",
           "#FF6692",
           "#B6E880",
           "#FF97FF",
           "#FECB52"
          ],
          "font": {
           "color": "#2a3f5f"
          },
          "geo": {
           "bgcolor": "white",
           "lakecolor": "white",
           "landcolor": "#E5ECF6",
           "showlakes": true,
           "showland": true,
           "subunitcolor": "white"
          },
          "hoverlabel": {
           "align": "left"
          },
          "hovermode": "closest",
          "mapbox": {
           "style": "light"
          },
          "paper_bgcolor": "white",
          "plot_bgcolor": "#E5ECF6",
          "polar": {
           "angularaxis": {
            "gridcolor": "white",
            "linecolor": "white",
            "ticks": ""
           },
           "bgcolor": "#E5ECF6",
           "radialaxis": {
            "gridcolor": "white",
            "linecolor": "white",
            "ticks": ""
           }
          },
          "scene": {
           "xaxis": {
            "backgroundcolor": "#E5ECF6",
            "gridcolor": "white",
            "gridwidth": 2,
            "linecolor": "white",
            "showbackground": true,
            "ticks": "",
            "zerolinecolor": "white"
           },
           "yaxis": {
            "backgroundcolor": "#E5ECF6",
            "gridcolor": "white",
            "gridwidth": 2,
            "linecolor": "white",
            "showbackground": true,
            "ticks": "",
            "zerolinecolor": "white"
           },
           "zaxis": {
            "backgroundcolor": "#E5ECF6",
            "gridcolor": "white",
            "gridwidth": 2,
            "linecolor": "white",
            "showbackground": true,
            "ticks": "",
            "zerolinecolor": "white"
           }
          },
          "shapedefaults": {
           "line": {
            "color": "#2a3f5f"
           }
          },
          "ternary": {
           "aaxis": {
            "gridcolor": "white",
            "linecolor": "white",
            "ticks": ""
           },
           "baxis": {
            "gridcolor": "white",
            "linecolor": "white",
            "ticks": ""
           },
           "bgcolor": "#E5ECF6",
           "caxis": {
            "gridcolor": "white",
            "linecolor": "white",
            "ticks": ""
           }
          },
          "title": {
           "x": 0.05
          },
          "xaxis": {
           "automargin": true,
           "gridcolor": "white",
           "linecolor": "white",
           "ticks": "",
           "title": {
            "standoff": 15
           },
           "zerolinecolor": "white",
           "zerolinewidth": 2
          },
          "yaxis": {
           "automargin": true,
           "gridcolor": "white",
           "linecolor": "white",
           "ticks": "",
           "title": {
            "standoff": 15
           },
           "zerolinecolor": "white",
           "zerolinewidth": 2
          }
         }
        },
        "title": {
         "text": "Twitter Cryptocurrency Sentiment (BTC, ADA, ETH)"
        },
        "xaxis": {
         "anchor": "y",
         "domain": [
          0,
          1
         ],
         "title": {
          "text": "Sentiment"
         }
        },
        "yaxis": {
         "anchor": "x",
         "domain": [
          0,
          1
         ],
         "title": {
          "text": "Number of Tweets"
         }
        }
       }
      },
      "text/html": [
       "<div>                            <div id=\"3fe1ef2d-4e16-4e36-bdf4-c83c7d7bee99\" class=\"plotly-graph-div\" style=\"height:525px; width:100%;\"></div>            <script type=\"text/javascript\">                require([\"plotly\"], function(Plotly) {                    window.PLOTLYENV=window.PLOTLYENV || {};                                    if (document.getElementById(\"3fe1ef2d-4e16-4e36-bdf4-c83c7d7bee99\")) {                    Plotly.newPlot(                        \"3fe1ef2d-4e16-4e36-bdf4-c83c7d7bee99\",                        [{\"alignmentgroup\": \"True\", \"customdata\": [[0.54], [0.0], [-0.37]], \"hovertemplate\": \"Sentiment=%{x}<br>Number of Tweets=%{y}<br>Average Polarity=%{marker.color}<extra></extra>\", \"legendgroup\": \"\", \"marker\": {\"color\": [0.54, 0.0, -0.37], \"coloraxis\": \"coloraxis\"}, \"name\": \"\", \"offsetgroup\": \"\", \"orientation\": \"v\", \"showlegend\": false, \"textposition\": \"auto\", \"type\": \"bar\", \"x\": [\"positive\", \"neutral\", \"negative\"], \"xaxis\": \"x\", \"y\": [105, 72, 15], \"yaxis\": \"y\"}],                        {\"barmode\": \"relative\", \"coloraxis\": {\"colorbar\": {\"title\": {\"text\": \"Average Polarity\"}}, \"colorscale\": [[0.0, \"#0d0887\"], [0.1111111111111111, \"#46039f\"], [0.2222222222222222, \"#7201a8\"], [0.3333333333333333, \"#9c179e\"], [0.4444444444444444, \"#bd3786\"], [0.5555555555555556, \"#d8576b\"], [0.6666666666666666, \"#ed7953\"], [0.7777777777777778, \"#fb9f3a\"], [0.8888888888888888, \"#fdca26\"], [1.0, \"#f0f921\"]]}, \"legend\": {\"tracegroupgap\": 0}, \"template\": {\"data\": {\"bar\": [{\"error_x\": {\"color\": \"#2a3f5f\"}, \"error_y\": {\"color\": \"#2a3f5f\"}, \"marker\": {\"line\": {\"color\": \"#E5ECF6\", \"width\": 0.5}}, \"type\": \"bar\"}], \"barpolar\": [{\"marker\": {\"line\": {\"color\": \"#E5ECF6\", \"width\": 0.5}}, \"type\": \"barpolar\"}], \"carpet\": [{\"aaxis\": {\"endlinecolor\": \"#2a3f5f\", \"gridcolor\": \"white\", \"linecolor\": \"white\", \"minorgridcolor\": \"white\", \"startlinecolor\": \"#2a3f5f\"}, \"baxis\": {\"endlinecolor\": \"#2a3f5f\", \"gridcolor\": \"white\", \"linecolor\": \"white\", \"minorgridcolor\": \"white\", \"startlinecolor\": \"#2a3f5f\"}, \"type\": \"carpet\"}], \"choropleth\": [{\"colorbar\": {\"outlinewidth\": 0, \"ticks\": \"\"}, \"type\": \"choropleth\"}], \"contour\": [{\"colorbar\": {\"outlinewidth\": 0, \"ticks\": \"\"}, \"colorscale\": [[0.0, \"#0d0887\"], [0.1111111111111111, \"#46039f\"], [0.2222222222222222, \"#7201a8\"], [0.3333333333333333, \"#9c179e\"], [0.4444444444444444, \"#bd3786\"], [0.5555555555555556, \"#d8576b\"], [0.6666666666666666, \"#ed7953\"], [0.7777777777777778, \"#fb9f3a\"], [0.8888888888888888, \"#fdca26\"], [1.0, \"#f0f921\"]], \"type\": \"contour\"}], \"contourcarpet\": [{\"colorbar\": {\"outlinewidth\": 0, \"ticks\": \"\"}, \"type\": \"contourcarpet\"}], \"heatmap\": [{\"colorbar\": {\"outlinewidth\": 0, \"ticks\": \"\"}, \"colorscale\": [[0.0, \"#0d0887\"], [0.1111111111111111, \"#46039f\"], [0.2222222222222222, \"#7201a8\"], [0.3333333333333333, \"#9c179e\"], [0.4444444444444444, \"#bd3786\"], [0.5555555555555556, \"#d8576b\"], [0.6666666666666666, \"#ed7953\"], [0.7777777777777778, \"#fb9f3a\"], [0.8888888888888888, \"#fdca26\"], [1.0, \"#f0f921\"]], \"type\": \"heatmap\"}], \"heatmapgl\": [{\"colorbar\": {\"outlinewidth\": 0, \"ticks\": \"\"}, \"colorscale\": [[0.0, \"#0d0887\"], [0.1111111111111111, \"#46039f\"], [0.2222222222222222, \"#7201a8\"], [0.3333333333333333, \"#9c179e\"], [0.4444444444444444, \"#bd3786\"], [0.5555555555555556, \"#d8576b\"], [0.6666666666666666, \"#ed7953\"], [0.7777777777777778, \"#fb9f3a\"], [0.8888888888888888, \"#fdca26\"], [1.0, \"#f0f921\"]], \"type\": \"heatmapgl\"}], \"histogram\": [{\"marker\": {\"colorbar\": {\"outlinewidth\": 0, \"ticks\": \"\"}}, \"type\": \"histogram\"}], \"histogram2d\": [{\"colorbar\": {\"outlinewidth\": 0, \"ticks\": \"\"}, \"colorscale\": [[0.0, \"#0d0887\"], [0.1111111111111111, \"#46039f\"], [0.2222222222222222, \"#7201a8\"], [0.3333333333333333, \"#9c179e\"], [0.4444444444444444, \"#bd3786\"], [0.5555555555555556, \"#d8576b\"], [0.6666666666666666, \"#ed7953\"], [0.7777777777777778, \"#fb9f3a\"], [0.8888888888888888, \"#fdca26\"], [1.0, \"#f0f921\"]], \"type\": \"histogram2d\"}], \"histogram2dcontour\": [{\"colorbar\": {\"outlinewidth\": 0, \"ticks\": \"\"}, \"colorscale\": [[0.0, \"#0d0887\"], [0.1111111111111111, \"#46039f\"], [0.2222222222222222, \"#7201a8\"], [0.3333333333333333, \"#9c179e\"], [0.4444444444444444, \"#bd3786\"], [0.5555555555555556, \"#d8576b\"], [0.6666666666666666, \"#ed7953\"], [0.7777777777777778, \"#fb9f3a\"], [0.8888888888888888, \"#fdca26\"], [1.0, \"#f0f921\"]], \"type\": \"histogram2dcontour\"}], \"mesh3d\": [{\"colorbar\": {\"outlinewidth\": 0, \"ticks\": \"\"}, \"type\": \"mesh3d\"}], \"parcoords\": [{\"line\": {\"colorbar\": {\"outlinewidth\": 0, \"ticks\": \"\"}}, \"type\": \"parcoords\"}], \"pie\": [{\"automargin\": true, \"type\": \"pie\"}], \"scatter\": [{\"marker\": {\"colorbar\": {\"outlinewidth\": 0, \"ticks\": \"\"}}, \"type\": \"scatter\"}], \"scatter3d\": [{\"line\": {\"colorbar\": {\"outlinewidth\": 0, \"ticks\": \"\"}}, \"marker\": {\"colorbar\": {\"outlinewidth\": 0, \"ticks\": \"\"}}, \"type\": \"scatter3d\"}], \"scattercarpet\": [{\"marker\": {\"colorbar\": {\"outlinewidth\": 0, \"ticks\": \"\"}}, \"type\": \"scattercarpet\"}], \"scattergeo\": [{\"marker\": {\"colorbar\": {\"outlinewidth\": 0, \"ticks\": \"\"}}, \"type\": \"scattergeo\"}], \"scattergl\": [{\"marker\": {\"colorbar\": {\"outlinewidth\": 0, \"ticks\": \"\"}}, \"type\": \"scattergl\"}], \"scattermapbox\": [{\"marker\": {\"colorbar\": {\"outlinewidth\": 0, \"ticks\": \"\"}}, \"type\": \"scattermapbox\"}], \"scatterpolar\": [{\"marker\": {\"colorbar\": {\"outlinewidth\": 0, \"ticks\": \"\"}}, \"type\": \"scatterpolar\"}], \"scatterpolargl\": [{\"marker\": {\"colorbar\": {\"outlinewidth\": 0, \"ticks\": \"\"}}, \"type\": \"scatterpolargl\"}], \"scatterternary\": [{\"marker\": {\"colorbar\": {\"outlinewidth\": 0, \"ticks\": \"\"}}, \"type\": \"scatterternary\"}], \"surface\": [{\"colorbar\": {\"outlinewidth\": 0, \"ticks\": \"\"}, \"colorscale\": [[0.0, \"#0d0887\"], [0.1111111111111111, \"#46039f\"], [0.2222222222222222, \"#7201a8\"], [0.3333333333333333, \"#9c179e\"], [0.4444444444444444, \"#bd3786\"], [0.5555555555555556, \"#d8576b\"], [0.6666666666666666, \"#ed7953\"], [0.7777777777777778, \"#fb9f3a\"], [0.8888888888888888, \"#fdca26\"], [1.0, \"#f0f921\"]], \"type\": \"surface\"}], \"table\": [{\"cells\": {\"fill\": {\"color\": \"#EBF0F8\"}, \"line\": {\"color\": \"white\"}}, \"header\": {\"fill\": {\"color\": \"#C8D4E3\"}, \"line\": {\"color\": \"white\"}}, \"type\": \"table\"}]}, \"layout\": {\"annotationdefaults\": {\"arrowcolor\": \"#2a3f5f\", \"arrowhead\": 0, \"arrowwidth\": 1}, \"autotypenumbers\": \"strict\", \"coloraxis\": {\"colorbar\": {\"outlinewidth\": 0, \"ticks\": \"\"}}, \"colorscale\": {\"diverging\": [[0, \"#8e0152\"], [0.1, \"#c51b7d\"], [0.2, \"#de77ae\"], [0.3, \"#f1b6da\"], [0.4, \"#fde0ef\"], [0.5, \"#f7f7f7\"], [0.6, \"#e6f5d0\"], [0.7, \"#b8e186\"], [0.8, \"#7fbc41\"], [0.9, \"#4d9221\"], [1, \"#276419\"]], \"sequential\": [[0.0, \"#0d0887\"], [0.1111111111111111, \"#46039f\"], [0.2222222222222222, \"#7201a8\"], [0.3333333333333333, \"#9c179e\"], [0.4444444444444444, \"#bd3786\"], [0.5555555555555556, \"#d8576b\"], [0.6666666666666666, \"#ed7953\"], [0.7777777777777778, \"#fb9f3a\"], [0.8888888888888888, \"#fdca26\"], [1.0, \"#f0f921\"]], \"sequentialminus\": [[0.0, \"#0d0887\"], [0.1111111111111111, \"#46039f\"], [0.2222222222222222, \"#7201a8\"], [0.3333333333333333, \"#9c179e\"], [0.4444444444444444, \"#bd3786\"], [0.5555555555555556, \"#d8576b\"], [0.6666666666666666, \"#ed7953\"], [0.7777777777777778, \"#fb9f3a\"], [0.8888888888888888, \"#fdca26\"], [1.0, \"#f0f921\"]]}, \"colorway\": [\"#636efa\", \"#EF553B\", \"#00cc96\", \"#ab63fa\", \"#FFA15A\", \"#19d3f3\", \"#FF6692\", \"#B6E880\", \"#FF97FF\", \"#FECB52\"], \"font\": {\"color\": \"#2a3f5f\"}, \"geo\": {\"bgcolor\": \"white\", \"lakecolor\": \"white\", \"landcolor\": \"#E5ECF6\", \"showlakes\": true, \"showland\": true, \"subunitcolor\": \"white\"}, \"hoverlabel\": {\"align\": \"left\"}, \"hovermode\": \"closest\", \"mapbox\": {\"style\": \"light\"}, \"paper_bgcolor\": \"white\", \"plot_bgcolor\": \"#E5ECF6\", \"polar\": {\"angularaxis\": {\"gridcolor\": \"white\", \"linecolor\": \"white\", \"ticks\": \"\"}, \"bgcolor\": \"#E5ECF6\", \"radialaxis\": {\"gridcolor\": \"white\", \"linecolor\": \"white\", \"ticks\": \"\"}}, \"scene\": {\"xaxis\": {\"backgroundcolor\": \"#E5ECF6\", \"gridcolor\": \"white\", \"gridwidth\": 2, \"linecolor\": \"white\", \"showbackground\": true, \"ticks\": \"\", \"zerolinecolor\": \"white\"}, \"yaxis\": {\"backgroundcolor\": \"#E5ECF6\", \"gridcolor\": \"white\", \"gridwidth\": 2, \"linecolor\": \"white\", \"showbackground\": true, \"ticks\": \"\", \"zerolinecolor\": \"white\"}, \"zaxis\": {\"backgroundcolor\": \"#E5ECF6\", \"gridcolor\": \"white\", \"gridwidth\": 2, \"linecolor\": \"white\", \"showbackground\": true, \"ticks\": \"\", \"zerolinecolor\": \"white\"}}, \"shapedefaults\": {\"line\": {\"color\": \"#2a3f5f\"}}, \"ternary\": {\"aaxis\": {\"gridcolor\": \"white\", \"linecolor\": \"white\", \"ticks\": \"\"}, \"baxis\": {\"gridcolor\": \"white\", \"linecolor\": \"white\", \"ticks\": \"\"}, \"bgcolor\": \"#E5ECF6\", \"caxis\": {\"gridcolor\": \"white\", \"linecolor\": \"white\", \"ticks\": \"\"}}, \"title\": {\"x\": 0.05}, \"xaxis\": {\"automargin\": true, \"gridcolor\": \"white\", \"linecolor\": \"white\", \"ticks\": \"\", \"title\": {\"standoff\": 15}, \"zerolinecolor\": \"white\", \"zerolinewidth\": 2}, \"yaxis\": {\"automargin\": true, \"gridcolor\": \"white\", \"linecolor\": \"white\", \"ticks\": \"\", \"title\": {\"standoff\": 15}, \"zerolinecolor\": \"white\", \"zerolinewidth\": 2}}}, \"title\": {\"text\": \"Twitter Cryptocurrency Sentiment (BTC, ADA, ETH)\"}, \"xaxis\": {\"anchor\": \"y\", \"domain\": [0.0, 1.0], \"title\": {\"text\": \"Sentiment\"}}, \"yaxis\": {\"anchor\": \"x\", \"domain\": [0.0, 1.0], \"title\": {\"text\": \"Number of Tweets\"}}},                        {\"responsive\": true}                    ).then(function(){\n",
       "                            \n",
       "var gd = document.getElementById('3fe1ef2d-4e16-4e36-bdf4-c83c7d7bee99');\n",
       "var x = new MutationObserver(function (mutations, observer) {{\n",
       "        var display = window.getComputedStyle(gd).display;\n",
       "        if (!display || display === 'none') {{\n",
       "            console.log([gd, 'removed!']);\n",
       "            Plotly.purge(gd);\n",
       "            observer.disconnect();\n",
       "        }}\n",
       "}});\n",
       "\n",
       "// Listen for the removal of the full notebook cells\n",
       "var notebookContainer = gd.closest('#notebook-container');\n",
       "if (notebookContainer) {{\n",
       "    x.observe(notebookContainer, {childList: true});\n",
       "}}\n",
       "\n",
       "// Listen for the clearing of the current output cell\n",
       "var outputEl = gd.closest('.output');\n",
       "if (outputEl) {{\n",
       "    x.observe(outputEl, {childList: true});\n",
       "}}\n",
       "\n",
       "                        })                };                });            </script>        </div>"
      ]
     },
     "metadata": {},
     "output_type": "display_data"
    }
   ],
   "source": [
    "# Create dynamic visualization \n",
    "fig = px.bar(sentiment_df, x='Sentiment', y='Number of Tweets', \n",
    "             title='Twitter Cryptocurrency Sentiment (BTC, ADA, ETH)', hover_data=['Sentiment', 'Number of Tweets', 'Average Polarity'], color='Average Polarity')\n",
    "\n",
    "fig.show()"
   ]
  },
  {
   "cell_type": "code",
   "execution_count": null,
   "id": "d7c5e1bc",
   "metadata": {},
   "outputs": [],
   "source": []
  }
 ],
 "metadata": {
  "kernelspec": {
   "display_name": "mlenv",
   "language": "python",
   "name": "mlenv"
  },
  "language_info": {
   "codemirror_mode": {
    "name": "ipython",
    "version": 3
   },
   "file_extension": ".py",
   "mimetype": "text/x-python",
   "name": "python",
   "nbconvert_exporter": "python",
   "pygments_lexer": "ipython3",
   "version": "3.7.10"
  }
 },
 "nbformat": 4,
 "nbformat_minor": 5
}
