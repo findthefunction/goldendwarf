{
 "cells": [
  {
   "cell_type": "code",
   "execution_count": 1,
   "id": "033c73c9",
   "metadata": {},
   "outputs": [],
   "source": [
    "from pprint import pprint\n",
    "import pandas as pd\n",
    "import numpy as np\n",
    "import matplotlib.pyplot as plt\n",
    "import seaborn as sns"
   ]
  },
  {
   "cell_type": "code",
   "execution_count": 2,
   "id": "4c3c52d7",
   "metadata": {},
   "outputs": [],
   "source": [
    "import praw\n",
    "\n",
    "user_agent = \"Scrape 1.0 by Dono\"\n",
    "reddit = praw.Reddit(\n",
    "    client_id =\"Qt0RKr4jRmrky5cg0fuTwg\",\n",
    "    client_secret=\"bJENgeQl2nHWmTKFZDuS2PH5nEatIg\",\n",
    "    user_agent=user_agent\n",
    ")"
   ]
  },
  {
   "cell_type": "code",
   "execution_count": 3,
   "id": "db4b0e27",
   "metadata": {},
   "outputs": [
    {
     "name": "stdout",
     "output_type": "stream",
     "text": [
      "842\n"
     ]
    }
   ],
   "source": [
    "#hot new rising top\n",
    "headlines = set()\n",
    "for submission in reddit.subreddit(\"cryptocurrencynews\").hot(limit=None):\n",
    "    headlines.add(submission.title)\n",
    "print(len(headlines))"
   ]
  },
  {
   "cell_type": "code",
   "execution_count": 4,
   "id": "16c9c84a",
   "metadata": {},
   "outputs": [
    {
     "data": {
      "text/html": [
       "<div>\n",
       "<style scoped>\n",
       "    .dataframe tbody tr th:only-of-type {\n",
       "        vertical-align: middle;\n",
       "    }\n",
       "\n",
       "    .dataframe tbody tr th {\n",
       "        vertical-align: top;\n",
       "    }\n",
       "\n",
       "    .dataframe thead th {\n",
       "        text-align: right;\n",
       "    }\n",
       "</style>\n",
       "<table border=\"1\" class=\"dataframe\">\n",
       "  <thead>\n",
       "    <tr style=\"text-align: right;\">\n",
       "      <th></th>\n",
       "      <th>0</th>\n",
       "    </tr>\n",
       "  </thead>\n",
       "  <tbody>\n",
       "    <tr>\n",
       "      <th>0</th>\n",
       "      <td>Formula 1 Made Crypto.Com A Global Partner Of ...</td>\n",
       "    </tr>\n",
       "    <tr>\n",
       "      <th>1</th>\n",
       "      <td>Australians Lost 3x More to Scammers via Bank ...</td>\n",
       "    </tr>\n",
       "    <tr>\n",
       "      <th>2</th>\n",
       "      <td>Great team, great company. At this stage of my...</td>\n",
       "    </tr>\n",
       "    <tr>\n",
       "      <th>3</th>\n",
       "      <td>Anonymous Hacker Group Launches Anon Inu Crypt...</td>\n",
       "    </tr>\n",
       "    <tr>\n",
       "      <th>4</th>\n",
       "      <td>Bitcoin Price Bottomed Out Or More Sell-Off: O...</td>\n",
       "    </tr>\n",
       "  </tbody>\n",
       "</table>\n",
       "</div>"
      ],
      "text/plain": [
       "                                                   0\n",
       "0  Formula 1 Made Crypto.Com A Global Partner Of ...\n",
       "1  Australians Lost 3x More to Scammers via Bank ...\n",
       "2  Great team, great company. At this stage of my...\n",
       "3  Anonymous Hacker Group Launches Anon Inu Crypt...\n",
       "4  Bitcoin Price Bottomed Out Or More Sell-Off: O..."
      ]
     },
     "execution_count": 4,
     "metadata": {},
     "output_type": "execute_result"
    }
   ],
   "source": [
    "df = pd.DataFrame(headlines)\n",
    "df.head()"
   ]
  },
  {
   "cell_type": "code",
   "execution_count": 5,
   "id": "c464123d",
   "metadata": {},
   "outputs": [],
   "source": [
    "df.to_csv(\"headlines.csv\", header=False, encoding=\"utf-8\", index=False)"
   ]
  },
  {
   "cell_type": "code",
   "execution_count": 6,
   "id": "67dbaa33",
   "metadata": {},
   "outputs": [
    {
     "name": "stderr",
     "output_type": "stream",
     "text": [
      "[nltk_data] Downloading package vader_lexicon to\n",
      "[nltk_data]     /home/donovan/nltk_data...\n",
      "[nltk_data]   Package vader_lexicon is already up-to-date!\n"
     ]
    },
    {
     "data": {
      "text/plain": [
       "True"
      ]
     },
     "execution_count": 6,
     "metadata": {},
     "output_type": "execute_result"
    }
   ],
   "source": [
    "import nltk\n",
    "nltk.download(\"vader_lexicon\")"
   ]
  },
  {
   "cell_type": "code",
   "execution_count": 7,
   "id": "e4a800a7",
   "metadata": {
    "scrolled": true
   },
   "outputs": [
    {
     "name": "stdout",
     "output_type": "stream",
     "text": [
      "[{'compound': 0.0,\n",
      "  'headline': 'Formula 1 Made Crypto.Com A Global Partner Of F1 Sprint Series',\n",
      "  'neg': 0.0,\n",
      "  'neu': 1.0,\n",
      "  'pos': 0.0},\n",
      " {'compound': -0.3182,\n",
      "  'headline': 'Australians Lost 3x More to Scammers via Bank Transactions than Bitcoin Payments in '\n",
      "              '2020',\n",
      "  'neg': 0.15,\n",
      "  'neu': 0.85,\n",
      "  'pos': 0.0},\n",
      " {'compound': 0.8481,\n",
      "  'headline': 'Great team, great company. At this stage of my acquaintance with the project',\n",
      "  'neg': 0.0,\n",
      "  'neu': 0.573,\n",
      "  'pos': 0.427}]\n"
     ]
    }
   ],
   "source": [
    "from nltk.sentiment.vader import SentimentIntensityAnalyzer as SIA\n",
    "sia = SIA()\n",
    "results = []\n",
    "\n",
    "for line in headlines:\n",
    "    pol_score = sia.polarity_scores(line) # -> dict\n",
    "    pol_score[\"headline\"] = line\n",
    "    results.append(pol_score)\n",
    "    \n",
    "pprint(results[:3], width=100)"
   ]
  },
  {
   "cell_type": "code",
   "execution_count": 8,
   "id": "c26e8cfc",
   "metadata": {},
   "outputs": [
    {
     "data": {
      "text/html": [
       "<div>\n",
       "<style scoped>\n",
       "    .dataframe tbody tr th:only-of-type {\n",
       "        vertical-align: middle;\n",
       "    }\n",
       "\n",
       "    .dataframe tbody tr th {\n",
       "        vertical-align: top;\n",
       "    }\n",
       "\n",
       "    .dataframe thead th {\n",
       "        text-align: right;\n",
       "    }\n",
       "</style>\n",
       "<table border=\"1\" class=\"dataframe\">\n",
       "  <thead>\n",
       "    <tr style=\"text-align: right;\">\n",
       "      <th></th>\n",
       "      <th>neg</th>\n",
       "      <th>neu</th>\n",
       "      <th>pos</th>\n",
       "      <th>compound</th>\n",
       "      <th>headline</th>\n",
       "    </tr>\n",
       "  </thead>\n",
       "  <tbody>\n",
       "    <tr>\n",
       "      <th>0</th>\n",
       "      <td>0.000</td>\n",
       "      <td>1.000</td>\n",
       "      <td>0.000</td>\n",
       "      <td>0.0000</td>\n",
       "      <td>Formula 1 Made Crypto.Com A Global Partner Of ...</td>\n",
       "    </tr>\n",
       "    <tr>\n",
       "      <th>1</th>\n",
       "      <td>0.150</td>\n",
       "      <td>0.850</td>\n",
       "      <td>0.000</td>\n",
       "      <td>-0.3182</td>\n",
       "      <td>Australians Lost 3x More to Scammers via Bank ...</td>\n",
       "    </tr>\n",
       "    <tr>\n",
       "      <th>2</th>\n",
       "      <td>0.000</td>\n",
       "      <td>0.573</td>\n",
       "      <td>0.427</td>\n",
       "      <td>0.8481</td>\n",
       "      <td>Great team, great company. At this stage of my...</td>\n",
       "    </tr>\n",
       "    <tr>\n",
       "      <th>3</th>\n",
       "      <td>0.191</td>\n",
       "      <td>0.809</td>\n",
       "      <td>0.000</td>\n",
       "      <td>-0.3818</td>\n",
       "      <td>Anonymous Hacker Group Launches Anon Inu Crypt...</td>\n",
       "    </tr>\n",
       "    <tr>\n",
       "      <th>4</th>\n",
       "      <td>0.000</td>\n",
       "      <td>1.000</td>\n",
       "      <td>0.000</td>\n",
       "      <td>0.0000</td>\n",
       "      <td>Bitcoin Price Bottomed Out Or More Sell-Off: O...</td>\n",
       "    </tr>\n",
       "  </tbody>\n",
       "</table>\n",
       "</div>"
      ],
      "text/plain": [
       "     neg    neu    pos  compound  \\\n",
       "0  0.000  1.000  0.000    0.0000   \n",
       "1  0.150  0.850  0.000   -0.3182   \n",
       "2  0.000  0.573  0.427    0.8481   \n",
       "3  0.191  0.809  0.000   -0.3818   \n",
       "4  0.000  1.000  0.000    0.0000   \n",
       "\n",
       "                                            headline  \n",
       "0  Formula 1 Made Crypto.Com A Global Partner Of ...  \n",
       "1  Australians Lost 3x More to Scammers via Bank ...  \n",
       "2  Great team, great company. At this stage of my...  \n",
       "3  Anonymous Hacker Group Launches Anon Inu Crypt...  \n",
       "4  Bitcoin Price Bottomed Out Or More Sell-Off: O...  "
      ]
     },
     "execution_count": 8,
     "metadata": {},
     "output_type": "execute_result"
    }
   ],
   "source": [
    "df = pd.DataFrame.from_records(results)\n",
    "df.head()"
   ]
  },
  {
   "cell_type": "code",
   "execution_count": 70,
   "id": "a6393491",
   "metadata": {},
   "outputs": [
    {
     "data": {
      "text/html": [
       "<div>\n",
       "<style scoped>\n",
       "    .dataframe tbody tr th:only-of-type {\n",
       "        vertical-align: middle;\n",
       "    }\n",
       "\n",
       "    .dataframe tbody tr th {\n",
       "        vertical-align: top;\n",
       "    }\n",
       "\n",
       "    .dataframe thead th {\n",
       "        text-align: right;\n",
       "    }\n",
       "</style>\n",
       "<table border=\"1\" class=\"dataframe\">\n",
       "  <thead>\n",
       "    <tr style=\"text-align: right;\">\n",
       "      <th></th>\n",
       "      <th>neg</th>\n",
       "      <th>neu</th>\n",
       "      <th>pos</th>\n",
       "      <th>compound</th>\n",
       "      <th>headline</th>\n",
       "      <th>label</th>\n",
       "    </tr>\n",
       "  </thead>\n",
       "  <tbody>\n",
       "    <tr>\n",
       "      <th>0</th>\n",
       "      <td>0.000</td>\n",
       "      <td>0.715</td>\n",
       "      <td>0.285</td>\n",
       "      <td>0.4926</td>\n",
       "      <td>How I relax after work, how do you relax?! (M)</td>\n",
       "      <td>1</td>\n",
       "    </tr>\n",
       "    <tr>\n",
       "      <th>1</th>\n",
       "      <td>0.371</td>\n",
       "      <td>0.629</td>\n",
       "      <td>0.000</td>\n",
       "      <td>-0.6486</td>\n",
       "      <td>He woke me up to fuck me…not complaining thoug...</td>\n",
       "      <td>-1</td>\n",
       "    </tr>\n",
       "    <tr>\n",
       "      <th>2</th>\n",
       "      <td>0.231</td>\n",
       "      <td>0.769</td>\n",
       "      <td>0.000</td>\n",
       "      <td>-0.0516</td>\n",
       "      <td>30 [m] leave you dripping?</td>\n",
       "      <td>0</td>\n",
       "    </tr>\n",
       "    <tr>\n",
       "      <th>3</th>\n",
       "      <td>0.107</td>\n",
       "      <td>0.687</td>\n",
       "      <td>0.206</td>\n",
       "      <td>0.3182</td>\n",
       "      <td>Still a bit soft, help me get the last bit har...</td>\n",
       "      <td>1</td>\n",
       "    </tr>\n",
       "    <tr>\n",
       "      <th>4</th>\n",
       "      <td>0.000</td>\n",
       "      <td>1.000</td>\n",
       "      <td>0.000</td>\n",
       "      <td>0.0000</td>\n",
       "      <td>You bring the (f)ucks, I’ll bring the cuddles 🤗</td>\n",
       "      <td>0</td>\n",
       "    </tr>\n",
       "  </tbody>\n",
       "</table>\n",
       "</div>"
      ],
      "text/plain": [
       "     neg    neu    pos  compound  \\\n",
       "0  0.000  0.715  0.285    0.4926   \n",
       "1  0.371  0.629  0.000   -0.6486   \n",
       "2  0.231  0.769  0.000   -0.0516   \n",
       "3  0.107  0.687  0.206    0.3182   \n",
       "4  0.000  1.000  0.000    0.0000   \n",
       "\n",
       "                                            headline  label  \n",
       "0     How I relax after work, how do you relax?! (M)      1  \n",
       "1  He woke me up to fuck me…not complaining thoug...     -1  \n",
       "2                         30 [m] leave you dripping?      0  \n",
       "3  Still a bit soft, help me get the last bit har...      1  \n",
       "4    You bring the (f)ucks, I’ll bring the cuddles 🤗      0  "
      ]
     },
     "execution_count": 70,
     "metadata": {},
     "output_type": "execute_result"
    }
   ],
   "source": [
    "df[\"label\"] = 0\n",
    "df.loc[df[\"compound\"] > 0.2, \"label\"] = 1\n",
    "df.loc[df[\"compound\"] < -0.2, \"label\"] = -1\n",
    "df.head()"
   ]
  },
  {
   "cell_type": "code",
   "execution_count": 71,
   "id": "ac9a2828",
   "metadata": {},
   "outputs": [],
   "source": [
    "df2 = df[[\"headline\", \"label\"]]"
   ]
  },
  {
   "cell_type": "code",
   "execution_count": 72,
   "id": "d81889a8",
   "metadata": {},
   "outputs": [],
   "source": [
    "df2.to_csv(\"reddit_headlines_labels.csv\", encoding=\"utf-8\", index=False)"
   ]
  },
  {
   "cell_type": "code",
   "execution_count": 73,
   "id": "bae058c6",
   "metadata": {},
   "outputs": [
    {
     "data": {
      "text/plain": [
       " 0    474\n",
       " 1    347\n",
       "-1    142\n",
       "Name: label, dtype: int64"
      ]
     },
     "execution_count": 73,
     "metadata": {},
     "output_type": "execute_result"
    }
   ],
   "source": [
    "df.label.value_counts()"
   ]
  },
  {
   "cell_type": "code",
   "execution_count": 74,
   "id": "09867f63",
   "metadata": {},
   "outputs": [
    {
     "data": {
      "text/plain": [
       " 0    49.221184\n",
       " 1    36.033229\n",
       "-1    14.745587\n",
       "Name: label, dtype: float64"
      ]
     },
     "execution_count": 74,
     "metadata": {},
     "output_type": "execute_result"
    }
   ],
   "source": [
    "df.label.value_counts(normalize=True) * 100"
   ]
  },
  {
   "cell_type": "code",
   "execution_count": 75,
   "id": "40cc5a3f",
   "metadata": {},
   "outputs": [
    {
     "name": "stdout",
     "output_type": "stream",
     "text": [
      "Positive headlines:\n",
      "\n",
      "['How I relax after work, how do you relax?! (M)', 'Still a bit soft, help me get the last bit hard? [M]', 'Good morning 😘👅😏 (f)', 'A tasty treat (f)', 'Do you like having fun in plubic? (F)']\n",
      "\n",
      "Negative headlines:\n",
      "\n",
      "['He woke me up to fuck me…not complaining though 😈 [m] [f]',\n",
      " '28 [M] Your Cherry Bomb?',\n",
      " '(f)eeling lonely and horny 🙄',\n",
      " 'Would you suck it? (M)',\n",
      " 'Nothing feels as good as when you’re not allowed [f]']\n"
     ]
    }
   ],
   "source": [
    "print(\"Positive headlines:\\n\")\n",
    "pprint(list(df[df[\"label\"] == 1].headline)[:5], width=200)\n",
    "\n",
    "print(\"\\nNegative headlines:\\n\")\n",
    "pprint(list(df[df[\"label\"] == -1].headline)[:5], width=200)"
   ]
  },
  {
   "cell_type": "code",
   "execution_count": 76,
   "id": "17753956",
   "metadata": {},
   "outputs": [
    {
     "data": {
      "image/png": "[encoded data removed]",
      "text/plain": [
       "<Figure size 576x576 with 1 Axes>"
      ]
     },
     "metadata": {
      "needs_background": "light"
     },
     "output_type": "display_data"
    }
   ],
   "source": [
    "fig, ax = plt.subplots(figsize=(8,8))\n",
    "\n",
    "counts = df.label.value_counts(normalize=True) * 100\n",
    "\n",
    "sns.barplot(x=counts.index, y=counts, ax=ax)\n",
    "\n",
    "ax.set_xticklabels([\"Negative\", \"Neutral\", \"Positive\"])\n",
    "ax.set_ylabel(\"Percentage\")\n",
    "\n",
    "plt.show()"
   ]
  },
  {
   "cell_type": "code",
   "execution_count": null,
   "id": "0a2f5ba5",
   "metadata": {},
   "outputs": [],
   "source": []
  }
 ],
 "metadata": {
  "kernelspec": {
   "display_name": "mlenv",
   "language": "python",
   "name": "mlenv"
  },
  "language_info": {
   "codemirror_mode": {
    "name": "ipython",
    "version": 3
   },
   "file_extension": ".py",
   "mimetype": "text/x-python",
   "name": "python",
   "nbconvert_exporter": "python",
   "pygments_lexer": "ipython3",
   "version": "3.7.10"
  }
 },
 "nbformat": 4,
 "nbformat_minor": 5
}
