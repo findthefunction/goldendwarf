{
 "cells": [
  {
   "cell_type": "code",
   "execution_count": 7,
   "source": [
    "import requests        \r\n",
    "import json           \r\n",
    "import pandas as pd    \r\n",
    "import numpy as np     \r\n",
    "\r\n",
    "import matplotlib.pyplot as plt \r\n",
    "import datetime as dt \r\n",
    "\r\n",
    "def get_bars(symbol, interval = '1m'):\r\n",
    "   root_url = 'https://api.binance.com/api/v1/klines'\r\n",
    "   url = root_url + '?symbol=' + symbol + '&interval=' + interval\r\n",
    "   data = json.loads(requests.get(url).text)\r\n",
    "   df = pd.DataFrame(data)\r\n",
    "   df.columns = ['open_time',\r\n",
    "                 'o', 'h', 'l', 'c', 'v',\r\n",
    "                 'close_time', 'qav', 'num_trades',\r\n",
    "                 'taker_base_vol', 'taker_quote_vol', 'ignore']\r\n",
    "   df.index = [dt.datetime.fromtimestamp(x/1000.0) for x in df.close_time]\r\n",
    "   return df\r\n",
    "\r\n",
    "btcbusd = get_bars('BTCBUSD')\r\n",
    "\r\n",
    "btcbusd.to_csv(r'data/btc_busd.csv', mode = 'a', header = True)\r\n"
   ],
   "outputs": [],
   "metadata": {}
  },
  {
   "cell_type": "code",
   "execution_count": null,
   "source": [],
   "outputs": [],
   "metadata": {}
  },
  {
   "cell_type": "code",
   "execution_count": null,
   "source": [],
   "outputs": [],
   "metadata": {}
  }
 ],
 "metadata": {
  "orig_nbformat": 4,
  "language_info": {
   "name": "python",
   "version": "3.7.10",
   "mimetype": "text/x-python",
   "codemirror_mode": {
    "name": "ipython",
    "version": 3
   },
   "pygments_lexer": "ipython3",
   "nbconvert_exporter": "python",
   "file_extension": ".py"
  },
  "kernelspec": {
   "name": "python3",
   "display_name": "Python 3.7.10 64-bit ('goldendwarf': conda)"
  },
  "interpreter": {
   "hash": "2b32a76a503c9e176ca0049e2d2a9acb4c95fb92710b45fff24f0535732941e1"
  }
 },
 "nbformat": 4,
 "nbformat_minor": 2
}