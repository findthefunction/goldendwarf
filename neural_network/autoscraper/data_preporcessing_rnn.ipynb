{
 "cells": [
  {
   "cell_type": "code",
   "execution_count": 1,
   "source": [
    "import pandas as pd\r\n",
    "\r\n",
    "ada_df = pd.read_csv (r'data/ada_busd.csv')\r\n",
    "\r\n",
    "ada_df = ada_df.drop(ada_df.columns[[0,7,8,9,10,11,12]], axis=1)\r\n",
    "#df = df.drop(df.columns[[0, 1, 3]], axis=1)\r\n",
    "ada_df=ada_df.rename(columns={\"open_time\": \"time\", \"o\": \"open\", \"h\":\"high\", \"l\":\"low\", \"c\":\"close\", \"v\":\"volume\"})\r\n",
    "ada_df.head()\r\n",
    "ada_df.to_csv(r'data/ada_rnn.csv', mode = 'a', header = False, index=False)\r\n",
    "ada_df.count()"
   ],
   "outputs": [
    {
     "output_type": "execute_result",
     "data": {
      "text/plain": [
       "time      500\n",
       "open      500\n",
       "high      500\n",
       "low       500\n",
       "close     500\n",
       "volume    500\n",
       "dtype: int64"
      ]
     },
     "metadata": {},
     "execution_count": 1
    }
   ],
   "metadata": {}
  },
  {
   "cell_type": "code",
   "execution_count": 2,
   "source": [
    "eth_df = pd.read_csv (r'data/eth_busd.csv')\r\n",
    "\r\n",
    "eth_df = eth_df.drop(eth_df.columns[[0,7,8,9,10,11,12]], axis=1)\r\n",
    "#df = df.drop(df.columns[[0, 1, 3]], axis=1)\r\n",
    "eth_df=eth_df.rename(columns={\"open_time\": \"time\", \"o\": \"open\", \"h\":\"high\", \"l\":\"low\", \"c\":\"close\", \"v\":\"volume\"})\r\n",
    "eth_df.head()\r\n",
    "\r\n",
    "eth_df.to_csv(r'data/eth_rnn.csv', mode = 'a', header = False, index=False)"
   ],
   "outputs": [
    {
     "output_type": "execute_result",
     "data": {
      "text/plain": [
       "time      500\n",
       "open      500\n",
       "high      500\n",
       "low       500\n",
       "close     500\n",
       "volume    500\n",
       "dtype: int64"
      ]
     },
     "metadata": {},
     "execution_count": 2
    }
   ],
   "metadata": {}
  },
  {
   "cell_type": "code",
   "execution_count": 3,
   "source": [
    "btc_df = pd.read_csv (r'data/btc_busd.csv')\r\n",
    "\r\n",
    "btc_df = btc_df.drop(btc_df.columns[[0,7,8,9,10,11,12]], axis=1)\r\n",
    "#df = df.drop(df.columns[[0, 1, 3]], axis=1)\r\n",
    "btc_df=btc_df.rename(columns={\"open_time\": \"time\", \"o\": \"open\", \"h\":\"high\", \"l\":\"low\", \"c\":\"close\", \"v\":\"volume\"})\r\n",
    "btc_df.head()\r\n",
    "\r\n",
    "btc_df.to_csv(r'data/btc_rnn.csv', mode = 'a', header = False, index=False)"
   ],
   "outputs": [
    {
     "output_type": "execute_result",
     "data": {
      "text/plain": [
       "time      500\n",
       "open      500\n",
       "high      500\n",
       "low       500\n",
       "close     500\n",
       "volume    500\n",
       "dtype: int64"
      ]
     },
     "metadata": {},
     "execution_count": 3
    }
   ],
   "metadata": {}
  },
  {
   "cell_type": "code",
   "execution_count": 4,
   "source": [
    "dot_df = pd.read_csv (r'data/dot_busd.csv')\r\n",
    "\r\n",
    "dot_df = dot_df.drop(dot_df.columns[[0,7,8,9,10,11,12]], axis=1)\r\n",
    "#df = df.drop(df.columns[[0, 1, 3]], axis=1)\r\n",
    "dot_df=dot_df.rename(columns={\"open_time\": \"time\", \"o\": \"open\", \"h\":\"high\", \"l\":\"low\", \"c\":\"close\", \"v\":\"volume\"})\r\n",
    "dot_df.head()\r\n",
    "\r\n",
    "dot_df.to_csv(r'data/dot_rnn.csv', mode = 'a', header = False, index=False)"
   ],
   "outputs": [
    {
     "output_type": "execute_result",
     "data": {
      "text/plain": [
       "time      500\n",
       "open      500\n",
       "high      500\n",
       "low       500\n",
       "close     500\n",
       "volume    500\n",
       "dtype: int64"
      ]
     },
     "metadata": {},
     "execution_count": 4
    }
   ],
   "metadata": {}
  }
 ],
 "metadata": {
  "orig_nbformat": 4,
  "language_info": {
   "name": "python",
   "version": "3.6.13",
   "mimetype": "text/x-python",
   "codemirror_mode": {
    "name": "ipython",
    "version": 3
   },
   "pygments_lexer": "ipython3",
   "nbconvert_exporter": "python",
   "file_extension": ".py"
  },
  "kernelspec": {
   "name": "python3",
   "display_name": "Python 3.6.13 64-bit ('goldenclone': conda)"
  },
  "interpreter": {
   "hash": "314212ef4c0db0e714e8311925b55d10f7530acd24f8d867793cf0b0e6ab3c95"
  }
 },
 "nbformat": 4,
 "nbformat_minor": 2
}